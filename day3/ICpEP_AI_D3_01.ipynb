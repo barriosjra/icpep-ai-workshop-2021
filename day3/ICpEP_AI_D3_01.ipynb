{
  "nbformat": 4,
  "nbformat_minor": 0,
  "metadata": {
    "colab": {
      "name": "ICpEP AI D3-01.ipynb",
      "provenance": [],
      "collapsed_sections": [],
      "toc_visible": true,
      "mount_file_id": "15d34BQhLXhG18bGl3rJUfnI-xawU0g-G",
      "authorship_tag": "ABX9TyNsYMMpN9+asF1oYNkU3kur",
      "include_colab_link": true
    },
    "kernelspec": {
      "name": "python3",
      "display_name": "Python 3"
    },
    "accelerator": "GPU"
  },
  "cells": [
    {
      "cell_type": "markdown",
      "metadata": {
        "id": "view-in-github",
        "colab_type": "text"
      },
      "source": [
        "<a href=\"https://colab.research.google.com/github/dyjdlopez/icpep-ai-workshop-2021/blob/main/day3/ICpEP_AI_D3_01.ipynb\" target=\"_parent\"><img src=\"https://colab.research.google.com/assets/colab-badge.svg\" alt=\"Open In Colab\"/></a>"
      ]
    },
    {
      "cell_type": "code",
      "metadata": {
        "id": "3QkINMPYfU0M"
      },
      "source": [
        "#@title Licensed under the Apache License, Version 2.0 (the \"License\");\r\n",
        "# you may not use this file except in compliance with the License.\r\n",
        "# You may obtain a copy of the License at\r\n",
        "#\r\n",
        "# https://www.apache.org/licenses/LICENSE-2.0\r\n",
        "#\r\n",
        "# Unless required by applicable law or agreed to in writing, software\r\n",
        "# distributed under the License is distributed on an \"AS IS\" BASIS,\r\n",
        "# WITHOUT WARRANTIES OR CONDITIONS OF ANY KIND, either express or implied.\r\n",
        "# See the License for the specific language governing permissions and\r\n",
        "# limitations under the License."
      ],
      "execution_count": null,
      "outputs": []
    },
    {
      "cell_type": "markdown",
      "metadata": {
        "id": "ZWch-Ydifbor"
      },
      "source": [
        "# Fundamentals of TensorFlow\r\n",
        "Copyright D.Lopez 2021 | All Rights reserved <br><br>\r\n",
        "\r\n",
        "[TensorFlow](https://www.tensorflow.org/) is an end-to-end open source platform for machine learning. It has a comprehensive, flexible ecosystem of tools, libraries and community resources that lets researchers push the state-of-the-art in ML and developers easily build and deploy ML powered applications.<br>\r\n",
        "TensorFlow provides several APIs that allow developers to develop a range of AI Apps from data estimation, computer vision, natural language processing, and even reinforcement learning.\r\n",
        "![image](https://camo.githubusercontent.com/c04e16c05de80dadbdc990884672fc941fdcbbfbb02b31dd48c248d010861426/68747470733a2f2f7777772e74656e736f72666c6f772e6f72672f696d616765732f74665f6c6f676f5f736f6369616c2e706e67)<br>\r\n",
        "\r\n",
        "\r\n",
        "\r\n"
      ]
    },
    {
      "cell_type": "code",
      "metadata": {
        "id": "2kfU9XdLfWLr"
      },
      "source": [
        "# !pip install tensorflow\r\n",
        "# !pip install tensorflow-gpu\r\n",
        "import tensorflow as tf\r\n",
        "import numpy as np\r\n",
        "import cv2\r\n",
        "import matplotlib.pyplot as plt\r\n"
      ],
      "execution_count": 1,
      "outputs": []
    },
    {
      "cell_type": "markdown",
      "metadata": {
        "id": "8N3HyWZEfqCs"
      },
      "source": [
        "## Part 1 Tensor Operations\r\n",
        "TensorFlow mainly operates using tensors (as its name suggests) so let’s try to use our current knowledge about tensors and apply it with our current platform."
      ]
    },
    {
      "cell_type": "markdown",
      "metadata": {
        "id": "om-K3XKVfvWM"
      },
      "source": [
        "### 1.1 NumPy and TensorFlow\r\n",
        "If you have enjoyed using matrices and tensors in NumPy, then performing tensor algebra in TensorFlow will just be a breeze."
      ]
    },
    {
      "cell_type": "code",
      "metadata": {
        "colab": {
          "base_uri": "https://localhost:8080/"
        },
        "id": "86TnJLlLCloY",
        "outputId": "105ed08c-5ca9-4bea-ac4a-f1e6eb3258dc"
      },
      "source": [
        "np_tensor = np.array(3)\r\n",
        "tf_tensor = tf.constant(3)\r\n",
        "\r\n",
        "print(np_tensor)\r\n",
        "print(tf_tensor)"
      ],
      "execution_count": null,
      "outputs": [
        {
          "output_type": "stream",
          "text": [
            "3\n",
            "tf.Tensor(3, shape=(), dtype=int32)\n"
          ],
          "name": "stdout"
        }
      ]
    },
    {
      "cell_type": "code",
      "metadata": {
        "colab": {
          "base_uri": "https://localhost:8080/"
        },
        "id": "pd4djNWnDlfM",
        "outputId": "b5c269c5-cb7b-4dd7-ece9-385727f10de9"
      },
      "source": [
        "np_mat = np.array([\r\n",
        "                   [1,2],\r\n",
        "                   [3,1]\r\n",
        "], dtype=float)\r\n",
        "tf_mat = tf.constant([\r\n",
        "                      [1,2],\r\n",
        "                      [3,1]\r\n",
        "], dtype=float)\r\n",
        "print(np_mat)\r\n",
        "print(tf_mat)"
      ],
      "execution_count": null,
      "outputs": [
        {
          "output_type": "stream",
          "text": [
            "[[1. 2.]\n",
            " [3. 1.]]\n",
            "tf.Tensor(\n",
            "[[1. 2.]\n",
            " [3. 1.]], shape=(2, 2), dtype=float32)\n"
          ],
          "name": "stdout"
        }
      ]
    },
    {
      "cell_type": "code",
      "metadata": {
        "colab": {
          "base_uri": "https://localhost:8080/"
        },
        "id": "ev9M4QY7EFsi",
        "outputId": "c89042d1-ff96-4b48-e887-6464c22560e5"
      },
      "source": [
        "type(tf_mat.numpy())"
      ],
      "execution_count": null,
      "outputs": [
        {
          "output_type": "execute_result",
          "data": {
            "text/plain": [
              "numpy.ndarray"
            ]
          },
          "metadata": {
            "tags": []
          },
          "execution_count": 14
        }
      ]
    },
    {
      "cell_type": "code",
      "metadata": {
        "colab": {
          "base_uri": "https://localhost:8080/"
        },
        "id": "etWzPea6EriB",
        "outputId": "32abd444-6e49-46f8-e5ee-2550d72746a9"
      },
      "source": [
        "A = tf_mat\r\n",
        "B = tf.transpose(tf_mat)\r\n",
        "print(f\"Matrix A: \\n{A}\")\r\n",
        "print(f\"Matrix B: \\n{B}\")\r\n",
        "print(f\"Sum of Tensors: \\n{A+B}\")\r\n",
        "print(f\"Difference of Tensors: \\n{A-B}\")\r\n",
        "print(f\"Product of Tensors: \\n{A*B}\")"
      ],
      "execution_count": null,
      "outputs": [
        {
          "output_type": "stream",
          "text": [
            "Matrix A: \n",
            "[[1. 2.]\n",
            " [3. 1.]]\n",
            "Matrix B: \n",
            "[[1. 3.]\n",
            " [2. 1.]]\n",
            "Sum of Tensors: \n",
            "[[2. 5.]\n",
            " [5. 2.]]\n",
            "Difference of Tensors: \n",
            "[[ 0. -1.]\n",
            " [ 1.  0.]]\n",
            "Product of Tensors: \n",
            "[[1. 6.]\n",
            " [6. 1.]]\n"
          ],
          "name": "stdout"
        }
      ]
    },
    {
      "cell_type": "code",
      "metadata": {
        "colab": {
          "base_uri": "https://localhost:8080/"
        },
        "id": "9REBXeY-FQR5",
        "outputId": "94a1b2ef-4220-4754-c318-8094c33346b9"
      },
      "source": [
        "print(f\"Dot Product of Tensors: \\n{A@B}\")"
      ],
      "execution_count": null,
      "outputs": [
        {
          "output_type": "stream",
          "text": [
            "Dot Product of Tensors: \n",
            "[[ 5.  5.]\n",
            " [ 5. 10.]]\n"
          ],
          "name": "stdout"
        }
      ]
    },
    {
      "cell_type": "code",
      "metadata": {
        "colab": {
          "base_uri": "https://localhost:8080/"
        },
        "id": "CMv1QzUNFgup",
        "outputId": "d5be07e1-8518-48c6-a7b0-8a782b35acfc"
      },
      "source": [
        "C = tf.reshape(A, [4,1])\r\n",
        "C"
      ],
      "execution_count": null,
      "outputs": [
        {
          "output_type": "execute_result",
          "data": {
            "text/plain": [
              "<tf.Tensor: shape=(4, 1), dtype=float32, numpy=\n",
              "array([[1.],\n",
              "       [2.],\n",
              "       [3.],\n",
              "       [1.]], dtype=float32)>"
            ]
          },
          "metadata": {
            "tags": []
          },
          "execution_count": 21
        }
      ]
    },
    {
      "cell_type": "markdown",
      "metadata": {
        "id": "aYdtdQ83f80j"
      },
      "source": [
        "## Part 2: Machine Learning Revisited\r\n",
        "As we recall, machine learning takes in data and a program to produce a rule or determine a pattern as opposed with traditional program that requires a pattern or rule together with the data to create a working system.\r\n",
        "\r\n",
        "Machine learning can be further classified into several cognitive paradigms:\r\n",
        "\r\n",
        "<b>Supervised learning</b>— is a type of machine learning that requires input data to have a feature and a label or the typical X data and y label format. Supervised learning requires its dataset to be:\r\n",
        "* Large (Volume)\r\n",
        "* Various\r\n",
        "* Valid\r\n",
        "\r\n",
        "<b>Unsupervised learning</b>—unlike input data from supervised learning, unsupervised learning data doesn't have labels. Unsupervised learning aims to find patterns in unexplored data. Typical applications of unsupervised learning include: dimension reduction and clustering.\r\n",
        "\r\n",
        "<b>Reinforcement learning</b>—the inputs for a reinforcement learning algorithm requires little to none data (in form of a dataset) to succeed in learning. Reinforcement learning aims to learn a rule, policy, or “way to do stuff” by determining whether its actions for a certain environment is rewarded or punished by its algorithm. The common uses of reinforcement learning included optimization.\r\n",
        "\r\n",
        "In the succeeding topics, we will be focusing on supervised learning using Deep Neural Networks."
      ]
    },
    {
      "cell_type": "markdown",
      "metadata": {
        "id": "hxPHAkwTzANw"
      },
      "source": [
        "### 2.1 The Neuron (Again)\r\n",
        "![image](https://svitla.com/uploads/ckeditor/ArtificialNeuronModel_english.jpg)<br>\r\n",
        "\r\n",
        "Recalling our last discussion with the neuron, we found out that it is the basic unit of a neural network. The learning process of the neuron consists of a feed-forward propagation in which it takes in several inputs in which it is multiplied by some weights and fed into a transfer function and then subjected to an activation function; and a backward propagation routine where it computes for the loss and cost of a neuron and uses the error value to update the weights and repeating until it converges (or even diverge) to a certain period of training"
      ]
    },
    {
      "cell_type": "code",
      "metadata": {
        "id": "DD_MSE7g4cHn"
      },
      "source": [
        "#Features\r\n",
        "X = np.arange(-1,5,dtype=float)\r\n",
        "def fx(x): return 2*x-1\r\n",
        "#Targets/Labels\r\n",
        "y = np.array(list(map(fx,X)))"
      ],
      "execution_count": 3,
      "outputs": []
    },
    {
      "cell_type": "code",
      "metadata": {
        "colab": {
          "base_uri": "https://localhost:8080/"
        },
        "id": "z5wwqavN5uMf",
        "outputId": "5736e2ea-a832-47c7-f071-16f1b1e027fc"
      },
      "source": [
        "print(X)\r\n",
        "print(y)"
      ],
      "execution_count": 4,
      "outputs": [
        {
          "output_type": "stream",
          "text": [
            "[-1.  0.  1.  2.  3.  4.]\n",
            "[-3. -1.  1.  3.  5.  7.]\n"
          ],
          "name": "stdout"
        }
      ]
    },
    {
      "cell_type": "code",
      "metadata": {
        "id": "ppb0E-3V6lGP"
      },
      "source": [
        "from tensorflow.keras.optimizers import Adam, SGD, RMSprop\r\n",
        "from tensorflow.keras.losses import MSE, MAE"
      ],
      "execution_count": 5,
      "outputs": []
    },
    {
      "cell_type": "code",
      "metadata": {
        "id": "riIBCkPFL6B0",
        "colab": {
          "base_uri": "https://localhost:8080/"
        },
        "outputId": "6c256f78-ab3a-4f35-9750-b6b92beb7248"
      },
      "source": [
        "### Dense Layer\r\n",
        "model = tf.keras.Sequential([\r\n",
        "                             tf.keras.layers.Dense(units=1, input_shape=[1])\r\n",
        "])\r\n",
        "lr=0.01\r\n",
        "model.compile(optimizer=SGD(learning_rate=lr),\r\n",
        "              loss=MSE)\r\n",
        "model.summary()"
      ],
      "execution_count": 6,
      "outputs": [
        {
          "output_type": "stream",
          "text": [
            "Model: \"sequential\"\n",
            "_________________________________________________________________\n",
            "Layer (type)                 Output Shape              Param #   \n",
            "=================================================================\n",
            "dense (Dense)                (None, 1)                 2         \n",
            "=================================================================\n",
            "Total params: 2\n",
            "Trainable params: 2\n",
            "Non-trainable params: 0\n",
            "_________________________________________________________________\n"
          ],
          "name": "stdout"
        }
      ]
    },
    {
      "cell_type": "code",
      "metadata": {
        "colab": {
          "base_uri": "https://localhost:8080/"
        },
        "id": "zcIta0FR8CJ2",
        "outputId": "3cf001f0-abf1-488d-adb5-3c5ec42e4801"
      },
      "source": [
        "history1 = model.fit(X,y,epochs=200)"
      ],
      "execution_count": 7,
      "outputs": [
        {
          "output_type": "stream",
          "text": [
            "Epoch 1/200\n",
            "1/1 [==============================] - 2s 2s/step - loss: 2.4729\n",
            "Epoch 2/200\n",
            "1/1 [==============================] - 0s 6ms/step - loss: 2.0954\n",
            "Epoch 3/200\n",
            "1/1 [==============================] - 0s 5ms/step - loss: 1.7954\n",
            "Epoch 4/200\n",
            "1/1 [==============================] - 0s 4ms/step - loss: 1.5563\n",
            "Epoch 5/200\n",
            "1/1 [==============================] - 0s 4ms/step - loss: 1.3652\n",
            "Epoch 6/200\n",
            "1/1 [==============================] - 0s 4ms/step - loss: 1.2120\n",
            "Epoch 7/200\n",
            "1/1 [==============================] - 0s 5ms/step - loss: 1.0886\n",
            "Epoch 8/200\n",
            "1/1 [==============================] - 0s 5ms/step - loss: 0.9888\n",
            "Epoch 9/200\n",
            "1/1 [==============================] - 0s 5ms/step - loss: 0.9075\n",
            "Epoch 10/200\n",
            "1/1 [==============================] - 0s 5ms/step - loss: 0.8409\n",
            "Epoch 11/200\n",
            "1/1 [==============================] - 0s 4ms/step - loss: 0.7859\n",
            "Epoch 12/200\n",
            "1/1 [==============================] - 0s 4ms/step - loss: 0.7401\n",
            "Epoch 13/200\n",
            "1/1 [==============================] - 0s 4ms/step - loss: 0.7015\n",
            "Epoch 14/200\n",
            "1/1 [==============================] - 0s 2ms/step - loss: 0.6688\n",
            "Epoch 15/200\n",
            "1/1 [==============================] - 0s 3ms/step - loss: 0.6406\n",
            "Epoch 16/200\n",
            "1/1 [==============================] - 0s 5ms/step - loss: 0.6160\n",
            "Epoch 17/200\n",
            "1/1 [==============================] - 0s 4ms/step - loss: 0.5944\n",
            "Epoch 18/200\n",
            "1/1 [==============================] - 0s 4ms/step - loss: 0.5752\n",
            "Epoch 19/200\n",
            "1/1 [==============================] - 0s 4ms/step - loss: 0.5578\n",
            "Epoch 20/200\n",
            "1/1 [==============================] - 0s 5ms/step - loss: 0.5420\n",
            "Epoch 21/200\n",
            "1/1 [==============================] - 0s 4ms/step - loss: 0.5275\n",
            "Epoch 22/200\n",
            "1/1 [==============================] - 0s 4ms/step - loss: 0.5139\n",
            "Epoch 23/200\n",
            "1/1 [==============================] - 0s 5ms/step - loss: 0.5012\n",
            "Epoch 24/200\n",
            "1/1 [==============================] - 0s 4ms/step - loss: 0.4893\n",
            "Epoch 25/200\n",
            "1/1 [==============================] - 0s 4ms/step - loss: 0.4779\n",
            "Epoch 26/200\n",
            "1/1 [==============================] - 0s 3ms/step - loss: 0.4671\n",
            "Epoch 27/200\n",
            "1/1 [==============================] - 0s 4ms/step - loss: 0.4567\n",
            "Epoch 28/200\n",
            "1/1 [==============================] - 0s 4ms/step - loss: 0.4466\n",
            "Epoch 29/200\n",
            "1/1 [==============================] - 0s 4ms/step - loss: 0.4370\n",
            "Epoch 30/200\n",
            "1/1 [==============================] - 0s 4ms/step - loss: 0.4276\n",
            "Epoch 31/200\n",
            "1/1 [==============================] - 0s 4ms/step - loss: 0.4185\n",
            "Epoch 32/200\n",
            "1/1 [==============================] - 0s 4ms/step - loss: 0.4097\n",
            "Epoch 33/200\n",
            "1/1 [==============================] - 0s 4ms/step - loss: 0.4010\n",
            "Epoch 34/200\n",
            "1/1 [==============================] - 0s 5ms/step - loss: 0.3927\n",
            "Epoch 35/200\n",
            "1/1 [==============================] - 0s 5ms/step - loss: 0.3845\n",
            "Epoch 36/200\n",
            "1/1 [==============================] - 0s 4ms/step - loss: 0.3765\n",
            "Epoch 37/200\n",
            "1/1 [==============================] - 0s 5ms/step - loss: 0.3687\n",
            "Epoch 38/200\n",
            "1/1 [==============================] - 0s 6ms/step - loss: 0.3610\n",
            "Epoch 39/200\n",
            "1/1 [==============================] - 0s 5ms/step - loss: 0.3536\n",
            "Epoch 40/200\n",
            "1/1 [==============================] - 0s 3ms/step - loss: 0.3463\n",
            "Epoch 41/200\n",
            "1/1 [==============================] - 0s 6ms/step - loss: 0.3391\n",
            "Epoch 42/200\n",
            "1/1 [==============================] - 0s 4ms/step - loss: 0.3322\n",
            "Epoch 43/200\n",
            "1/1 [==============================] - 0s 4ms/step - loss: 0.3253\n",
            "Epoch 44/200\n",
            "1/1 [==============================] - 0s 4ms/step - loss: 0.3186\n",
            "Epoch 45/200\n",
            "1/1 [==============================] - 0s 5ms/step - loss: 0.3121\n",
            "Epoch 46/200\n",
            "1/1 [==============================] - 0s 5ms/step - loss: 0.3056\n",
            "Epoch 47/200\n",
            "1/1 [==============================] - 0s 4ms/step - loss: 0.2994\n",
            "Epoch 48/200\n",
            "1/1 [==============================] - 0s 4ms/step - loss: 0.2932\n",
            "Epoch 49/200\n",
            "1/1 [==============================] - 0s 4ms/step - loss: 0.2872\n",
            "Epoch 50/200\n",
            "1/1 [==============================] - 0s 4ms/step - loss: 0.2813\n",
            "Epoch 51/200\n",
            "1/1 [==============================] - 0s 3ms/step - loss: 0.2755\n",
            "Epoch 52/200\n",
            "1/1 [==============================] - 0s 4ms/step - loss: 0.2698\n",
            "Epoch 53/200\n",
            "1/1 [==============================] - 0s 4ms/step - loss: 0.2643\n",
            "Epoch 54/200\n",
            "1/1 [==============================] - 0s 9ms/step - loss: 0.2589\n",
            "Epoch 55/200\n",
            "1/1 [==============================] - 0s 4ms/step - loss: 0.2535\n",
            "Epoch 56/200\n",
            "1/1 [==============================] - 0s 4ms/step - loss: 0.2483\n",
            "Epoch 57/200\n",
            "1/1 [==============================] - 0s 4ms/step - loss: 0.2432\n",
            "Epoch 58/200\n",
            "1/1 [==============================] - 0s 4ms/step - loss: 0.2382\n",
            "Epoch 59/200\n",
            "1/1 [==============================] - 0s 5ms/step - loss: 0.2333\n",
            "Epoch 60/200\n",
            "1/1 [==============================] - 0s 5ms/step - loss: 0.2285\n",
            "Epoch 61/200\n",
            "1/1 [==============================] - 0s 5ms/step - loss: 0.2239\n",
            "Epoch 62/200\n",
            "1/1 [==============================] - 0s 5ms/step - loss: 0.2193\n",
            "Epoch 63/200\n",
            "1/1 [==============================] - 0s 5ms/step - loss: 0.2148\n",
            "Epoch 64/200\n",
            "1/1 [==============================] - 0s 5ms/step - loss: 0.2103\n",
            "Epoch 65/200\n",
            "1/1 [==============================] - 0s 5ms/step - loss: 0.2060\n",
            "Epoch 66/200\n",
            "1/1 [==============================] - 0s 10ms/step - loss: 0.2018\n",
            "Epoch 67/200\n",
            "1/1 [==============================] - 0s 4ms/step - loss: 0.1976\n",
            "Epoch 68/200\n",
            "1/1 [==============================] - 0s 5ms/step - loss: 0.1936\n",
            "Epoch 69/200\n",
            "1/1 [==============================] - 0s 6ms/step - loss: 0.1896\n",
            "Epoch 70/200\n",
            "1/1 [==============================] - 0s 4ms/step - loss: 0.1857\n",
            "Epoch 71/200\n",
            "1/1 [==============================] - 0s 4ms/step - loss: 0.1819\n",
            "Epoch 72/200\n",
            "1/1 [==============================] - 0s 4ms/step - loss: 0.1782\n",
            "Epoch 73/200\n",
            "1/1 [==============================] - 0s 6ms/step - loss: 0.1745\n",
            "Epoch 74/200\n",
            "1/1 [==============================] - 0s 4ms/step - loss: 0.1709\n",
            "Epoch 75/200\n",
            "1/1 [==============================] - 0s 4ms/step - loss: 0.1674\n",
            "Epoch 76/200\n",
            "1/1 [==============================] - 0s 4ms/step - loss: 0.1640\n",
            "Epoch 77/200\n",
            "1/1 [==============================] - 0s 4ms/step - loss: 0.1606\n",
            "Epoch 78/200\n",
            "1/1 [==============================] - 0s 4ms/step - loss: 0.1573\n",
            "Epoch 79/200\n",
            "1/1 [==============================] - 0s 4ms/step - loss: 0.1541\n",
            "Epoch 80/200\n",
            "1/1 [==============================] - 0s 4ms/step - loss: 0.1509\n",
            "Epoch 81/200\n",
            "1/1 [==============================] - 0s 4ms/step - loss: 0.1478\n",
            "Epoch 82/200\n",
            "1/1 [==============================] - 0s 4ms/step - loss: 0.1448\n",
            "Epoch 83/200\n",
            "1/1 [==============================] - 0s 4ms/step - loss: 0.1418\n",
            "Epoch 84/200\n",
            "1/1 [==============================] - 0s 4ms/step - loss: 0.1389\n",
            "Epoch 85/200\n",
            "1/1 [==============================] - 0s 12ms/step - loss: 0.1360\n",
            "Epoch 86/200\n",
            "1/1 [==============================] - 0s 5ms/step - loss: 0.1332\n",
            "Epoch 87/200\n",
            "1/1 [==============================] - 0s 4ms/step - loss: 0.1305\n",
            "Epoch 88/200\n",
            "1/1 [==============================] - 0s 4ms/step - loss: 0.1278\n",
            "Epoch 89/200\n",
            "1/1 [==============================] - 0s 4ms/step - loss: 0.1252\n",
            "Epoch 90/200\n",
            "1/1 [==============================] - 0s 5ms/step - loss: 0.1226\n",
            "Epoch 91/200\n",
            "1/1 [==============================] - 0s 3ms/step - loss: 0.1201\n",
            "Epoch 92/200\n",
            "1/1 [==============================] - 0s 4ms/step - loss: 0.1176\n",
            "Epoch 93/200\n",
            "1/1 [==============================] - 0s 4ms/step - loss: 0.1152\n",
            "Epoch 94/200\n",
            "1/1 [==============================] - 0s 5ms/step - loss: 0.1129\n",
            "Epoch 95/200\n",
            "1/1 [==============================] - 0s 5ms/step - loss: 0.1105\n",
            "Epoch 96/200\n",
            "1/1 [==============================] - 0s 4ms/step - loss: 0.1083\n",
            "Epoch 97/200\n",
            "1/1 [==============================] - 0s 5ms/step - loss: 0.1060\n",
            "Epoch 98/200\n",
            "1/1 [==============================] - 0s 4ms/step - loss: 0.1039\n",
            "Epoch 99/200\n",
            "1/1 [==============================] - 0s 4ms/step - loss: 0.1017\n",
            "Epoch 100/200\n",
            "1/1 [==============================] - 0s 4ms/step - loss: 0.0996\n",
            "Epoch 101/200\n",
            "1/1 [==============================] - 0s 4ms/step - loss: 0.0976\n",
            "Epoch 102/200\n",
            "1/1 [==============================] - 0s 6ms/step - loss: 0.0956\n",
            "Epoch 103/200\n",
            "1/1 [==============================] - 0s 4ms/step - loss: 0.0936\n",
            "Epoch 104/200\n",
            "1/1 [==============================] - 0s 5ms/step - loss: 0.0917\n",
            "Epoch 105/200\n",
            "1/1 [==============================] - 0s 4ms/step - loss: 0.0898\n",
            "Epoch 106/200\n",
            "1/1 [==============================] - 0s 3ms/step - loss: 0.0880\n",
            "Epoch 107/200\n",
            "1/1 [==============================] - 0s 5ms/step - loss: 0.0862\n",
            "Epoch 108/200\n",
            "1/1 [==============================] - 0s 4ms/step - loss: 0.0844\n",
            "Epoch 109/200\n",
            "1/1 [==============================] - 0s 4ms/step - loss: 0.0827\n",
            "Epoch 110/200\n",
            "1/1 [==============================] - 0s 4ms/step - loss: 0.0810\n",
            "Epoch 111/200\n",
            "1/1 [==============================] - 0s 4ms/step - loss: 0.0793\n",
            "Epoch 112/200\n",
            "1/1 [==============================] - 0s 5ms/step - loss: 0.0777\n",
            "Epoch 113/200\n",
            "1/1 [==============================] - 0s 4ms/step - loss: 0.0761\n",
            "Epoch 114/200\n",
            "1/1 [==============================] - 0s 5ms/step - loss: 0.0745\n",
            "Epoch 115/200\n",
            "1/1 [==============================] - 0s 3ms/step - loss: 0.0730\n",
            "Epoch 116/200\n",
            "1/1 [==============================] - 0s 5ms/step - loss: 0.0715\n",
            "Epoch 117/200\n",
            "1/1 [==============================] - 0s 4ms/step - loss: 0.0700\n",
            "Epoch 118/200\n",
            "1/1 [==============================] - 0s 4ms/step - loss: 0.0686\n",
            "Epoch 119/200\n",
            "1/1 [==============================] - 0s 15ms/step - loss: 0.0672\n",
            "Epoch 120/200\n",
            "1/1 [==============================] - 0s 4ms/step - loss: 0.0658\n",
            "Epoch 121/200\n",
            "1/1 [==============================] - 0s 6ms/step - loss: 0.0644\n",
            "Epoch 122/200\n",
            "1/1 [==============================] - 0s 4ms/step - loss: 0.0631\n",
            "Epoch 123/200\n",
            "1/1 [==============================] - 0s 4ms/step - loss: 0.0618\n",
            "Epoch 124/200\n",
            "1/1 [==============================] - 0s 4ms/step - loss: 0.0605\n",
            "Epoch 125/200\n",
            "1/1 [==============================] - 0s 3ms/step - loss: 0.0593\n",
            "Epoch 126/200\n",
            "1/1 [==============================] - 0s 6ms/step - loss: 0.0581\n",
            "Epoch 127/200\n",
            "1/1 [==============================] - 0s 3ms/step - loss: 0.0569\n",
            "Epoch 128/200\n",
            "1/1 [==============================] - 0s 3ms/step - loss: 0.0557\n",
            "Epoch 129/200\n",
            "1/1 [==============================] - 0s 5ms/step - loss: 0.0546\n",
            "Epoch 130/200\n",
            "1/1 [==============================] - 0s 3ms/step - loss: 0.0535\n",
            "Epoch 131/200\n",
            "1/1 [==============================] - 0s 7ms/step - loss: 0.0524\n",
            "Epoch 132/200\n",
            "1/1 [==============================] - 0s 3ms/step - loss: 0.0513\n",
            "Epoch 133/200\n",
            "1/1 [==============================] - 0s 4ms/step - loss: 0.0502\n",
            "Epoch 134/200\n",
            "1/1 [==============================] - 0s 4ms/step - loss: 0.0492\n",
            "Epoch 135/200\n",
            "1/1 [==============================] - 0s 4ms/step - loss: 0.0482\n",
            "Epoch 136/200\n",
            "1/1 [==============================] - 0s 4ms/step - loss: 0.0472\n",
            "Epoch 137/200\n",
            "1/1 [==============================] - 0s 5ms/step - loss: 0.0462\n",
            "Epoch 138/200\n",
            "1/1 [==============================] - 0s 6ms/step - loss: 0.0453\n",
            "Epoch 139/200\n",
            "1/1 [==============================] - 0s 3ms/step - loss: 0.0444\n",
            "Epoch 140/200\n",
            "1/1 [==============================] - 0s 4ms/step - loss: 0.0434\n",
            "Epoch 141/200\n",
            "1/1 [==============================] - 0s 6ms/step - loss: 0.0425\n",
            "Epoch 142/200\n",
            "1/1 [==============================] - 0s 5ms/step - loss: 0.0417\n",
            "Epoch 143/200\n",
            "1/1 [==============================] - 0s 5ms/step - loss: 0.0408\n",
            "Epoch 144/200\n",
            "1/1 [==============================] - 0s 5ms/step - loss: 0.0400\n",
            "Epoch 145/200\n",
            "1/1 [==============================] - 0s 4ms/step - loss: 0.0392\n",
            "Epoch 146/200\n",
            "1/1 [==============================] - 0s 3ms/step - loss: 0.0384\n",
            "Epoch 147/200\n",
            "1/1 [==============================] - 0s 4ms/step - loss: 0.0376\n",
            "Epoch 148/200\n",
            "1/1 [==============================] - 0s 5ms/step - loss: 0.0368\n",
            "Epoch 149/200\n",
            "1/1 [==============================] - 0s 5ms/step - loss: 0.0360\n",
            "Epoch 150/200\n",
            "1/1 [==============================] - 0s 3ms/step - loss: 0.0353\n",
            "Epoch 151/200\n",
            "1/1 [==============================] - 0s 14ms/step - loss: 0.0346\n",
            "Epoch 152/200\n",
            "1/1 [==============================] - 0s 4ms/step - loss: 0.0339\n",
            "Epoch 153/200\n",
            "1/1 [==============================] - 0s 4ms/step - loss: 0.0332\n",
            "Epoch 154/200\n",
            "1/1 [==============================] - 0s 4ms/step - loss: 0.0325\n",
            "Epoch 155/200\n",
            "1/1 [==============================] - 0s 6ms/step - loss: 0.0318\n",
            "Epoch 156/200\n",
            "1/1 [==============================] - 0s 3ms/step - loss: 0.0312\n",
            "Epoch 157/200\n",
            "1/1 [==============================] - 0s 4ms/step - loss: 0.0305\n",
            "Epoch 158/200\n",
            "1/1 [==============================] - 0s 3ms/step - loss: 0.0299\n",
            "Epoch 159/200\n",
            "1/1 [==============================] - 0s 3ms/step - loss: 0.0293\n",
            "Epoch 160/200\n",
            "1/1 [==============================] - 0s 3ms/step - loss: 0.0287\n",
            "Epoch 161/200\n",
            "1/1 [==============================] - 0s 4ms/step - loss: 0.0281\n",
            "Epoch 162/200\n",
            "1/1 [==============================] - 0s 3ms/step - loss: 0.0275\n",
            "Epoch 163/200\n",
            "1/1 [==============================] - 0s 4ms/step - loss: 0.0270\n",
            "Epoch 164/200\n",
            "1/1 [==============================] - 0s 6ms/step - loss: 0.0264\n",
            "Epoch 165/200\n",
            "1/1 [==============================] - 0s 4ms/step - loss: 0.0259\n",
            "Epoch 166/200\n",
            "1/1 [==============================] - 0s 5ms/step - loss: 0.0253\n",
            "Epoch 167/200\n",
            "1/1 [==============================] - 0s 8ms/step - loss: 0.0248\n",
            "Epoch 168/200\n",
            "1/1 [==============================] - 0s 4ms/step - loss: 0.0243\n",
            "Epoch 169/200\n",
            "1/1 [==============================] - 0s 5ms/step - loss: 0.0238\n",
            "Epoch 170/200\n",
            "1/1 [==============================] - 0s 4ms/step - loss: 0.0233\n",
            "Epoch 171/200\n",
            "1/1 [==============================] - 0s 5ms/step - loss: 0.0228\n",
            "Epoch 172/200\n",
            "1/1 [==============================] - 0s 6ms/step - loss: 0.0224\n",
            "Epoch 173/200\n",
            "1/1 [==============================] - 0s 4ms/step - loss: 0.0219\n",
            "Epoch 174/200\n",
            "1/1 [==============================] - 0s 4ms/step - loss: 0.0215\n",
            "Epoch 175/200\n",
            "1/1 [==============================] - 0s 6ms/step - loss: 0.0210\n",
            "Epoch 176/200\n",
            "1/1 [==============================] - 0s 4ms/step - loss: 0.0206\n",
            "Epoch 177/200\n",
            "1/1 [==============================] - 0s 4ms/step - loss: 0.0202\n",
            "Epoch 178/200\n",
            "1/1 [==============================] - 0s 3ms/step - loss: 0.0197\n",
            "Epoch 179/200\n",
            "1/1 [==============================] - 0s 6ms/step - loss: 0.0193\n",
            "Epoch 180/200\n",
            "1/1 [==============================] - 0s 3ms/step - loss: 0.0189\n",
            "Epoch 181/200\n",
            "1/1 [==============================] - 0s 4ms/step - loss: 0.0185\n",
            "Epoch 182/200\n",
            "1/1 [==============================] - 0s 3ms/step - loss: 0.0182\n",
            "Epoch 183/200\n",
            "1/1 [==============================] - 0s 6ms/step - loss: 0.0178\n",
            "Epoch 184/200\n",
            "1/1 [==============================] - 0s 3ms/step - loss: 0.0174\n",
            "Epoch 185/200\n",
            "1/1 [==============================] - 0s 3ms/step - loss: 0.0171\n",
            "Epoch 186/200\n",
            "1/1 [==============================] - 0s 5ms/step - loss: 0.0167\n",
            "Epoch 187/200\n",
            "1/1 [==============================] - 0s 4ms/step - loss: 0.0164\n",
            "Epoch 188/200\n",
            "1/1 [==============================] - 0s 5ms/step - loss: 0.0160\n",
            "Epoch 189/200\n",
            "1/1 [==============================] - 0s 3ms/step - loss: 0.0157\n",
            "Epoch 190/200\n",
            "1/1 [==============================] - 0s 6ms/step - loss: 0.0154\n",
            "Epoch 191/200\n",
            "1/1 [==============================] - 0s 4ms/step - loss: 0.0151\n",
            "Epoch 192/200\n",
            "1/1 [==============================] - 0s 4ms/step - loss: 0.0148\n",
            "Epoch 193/200\n",
            "1/1 [==============================] - 0s 4ms/step - loss: 0.0145\n",
            "Epoch 194/200\n",
            "1/1 [==============================] - 0s 5ms/step - loss: 0.0142\n",
            "Epoch 195/200\n",
            "1/1 [==============================] - 0s 5ms/step - loss: 0.0139\n",
            "Epoch 196/200\n",
            "1/1 [==============================] - 0s 5ms/step - loss: 0.0136\n",
            "Epoch 197/200\n",
            "1/1 [==============================] - 0s 6ms/step - loss: 0.0133\n",
            "Epoch 198/200\n",
            "1/1 [==============================] - 0s 6ms/step - loss: 0.0130\n",
            "Epoch 199/200\n",
            "1/1 [==============================] - 0s 5ms/step - loss: 0.0128\n",
            "Epoch 200/200\n",
            "1/1 [==============================] - 0s 9ms/step - loss: 0.0125\n"
          ],
          "name": "stdout"
        }
      ]
    },
    {
      "cell_type": "code",
      "metadata": {
        "colab": {
          "base_uri": "https://localhost:8080/",
          "height": 295
        },
        "id": "kRzQNuya97LX",
        "outputId": "696c5cc2-65c0-4c81-c2c5-9f13607a7522"
      },
      "source": [
        "plt.title('Loss Curve')\r\n",
        "plt.plot(history1.history['loss'])\r\n",
        "plt.ylabel('loss')\r\n",
        "plt.xlabel('epoch')\r\n",
        "\r\n",
        "plt.show()"
      ],
      "execution_count": 8,
      "outputs": [
        {
          "output_type": "display_data",
          "data": {
            "image/png": "[encoded data removed]",
            "text/plain": [
              "<Figure size 432x288 with 1 Axes>"
            ]
          },
          "metadata": {
            "tags": [],
            "needs_background": "light"
          }
        }
      ]
    },
    {
      "cell_type": "code",
      "metadata": {
        "colab": {
          "base_uri": "https://localhost:8080/"
        },
        "id": "CZvCIEC08J6G",
        "outputId": "ec718b55-7157-4d3d-b259-af1fe72ffd4d"
      },
      "source": [
        "model.predict([10.0])"
      ],
      "execution_count": 9,
      "outputs": [
        {
          "output_type": "execute_result",
          "data": {
            "text/plain": [
              "array([[18.673744]], dtype=float32)"
            ]
          },
          "metadata": {
            "tags": []
          },
          "execution_count": 9
        }
      ]
    },
    {
      "cell_type": "markdown",
      "metadata": {
        "id": "CH24DOVfgHxj"
      },
      "source": [
        "## Part 3: Neural Networks"
      ]
    },
    {
      "cell_type": "markdown",
      "metadata": {
        "id": "CtjJgHe7gEt8"
      },
      "source": [
        "### 3.1 Multilayer Perceptron\r\n",
        "![image](https://www.researchgate.net/profile/Facundo_Bre/publication/321259051/figure/fig1/AS:614329250496529@1523478915726/Artificial-neural-network-architecture-ANN-i-h-1-h-2-h-n-o.png)\r\n",
        "\r\n",
        "As the name suggests, a multilayer perceptron (MLP) is a network of neurons or perceptrons arrange and connected horizontally and vertically. In this setup, neurons share knowledge along their respective layer and passes the activated values to the next layers to have a sense of \"deep\" learning. The concept of MLP gave rise to develop the new field of machine learning—Deep Learning, where we study about Artificial Neural Networks (ANN).\r\n",
        "\r\n",
        "An ANN consists of three parts:\r\n",
        "* Input layer\r\n",
        "* Hidden layer(s)\r\n",
        "* Output layer\r\n",
        "However, when counting the number of layers of a neural network we exclude the input layer since no learning is happening at the input layer or Layer 0 ($L0$)."
      ]
    },
    {
      "cell_type": "code",
      "metadata": {
        "colab": {
          "base_uri": "https://localhost:8080/"
        },
        "id": "mM5Ij87A4M-9",
        "outputId": "7e2c2746-c5e3-4cbe-cb0d-195b529ba32c"
      },
      "source": [
        "### Multilayer Perceptron\r\n",
        "model = tf.keras.Sequential([\r\n",
        "  tf.keras.layers.Dense(units=16,input_shape=[1]), #Hidden Layer\r\n",
        "  tf.keras.layers.Dense(units=1) #Output layer\r\n",
        "])\r\n",
        "\r\n",
        "lr=0.01\r\n",
        "model.compile(optimizer=SGD(learning_rate=lr),\r\n",
        "              loss=MSE)\r\n",
        "model.summary()\r\n",
        "history2=model.fit(X,y, epochs=200)"
      ],
      "execution_count": 10,
      "outputs": [
        {
          "output_type": "stream",
          "text": [
            "Model: \"sequential_1\"\n",
            "_________________________________________________________________\n",
            "Layer (type)                 Output Shape              Param #   \n",
            "=================================================================\n",
            "dense_1 (Dense)              (None, 16)                32        \n",
            "_________________________________________________________________\n",
            "dense_2 (Dense)              (None, 1)                 17        \n",
            "=================================================================\n",
            "Total params: 49\n",
            "Trainable params: 49\n",
            "Non-trainable params: 0\n",
            "_________________________________________________________________\n",
            "Epoch 1/200\n",
            "1/1 [==============================] - 0s 187ms/step - loss: 18.7195\n",
            "Epoch 2/200\n",
            "1/1 [==============================] - 0s 5ms/step - loss: 6.6108\n",
            "Epoch 3/200\n",
            "1/1 [==============================] - 0s 4ms/step - loss: 2.6740\n",
            "Epoch 4/200\n",
            "1/1 [==============================] - 0s 7ms/step - loss: 1.3864\n",
            "Epoch 5/200\n",
            "1/1 [==============================] - 0s 4ms/step - loss: 0.9862\n",
            "Epoch 6/200\n",
            "1/1 [==============================] - 0s 6ms/step - loss: 0.8400\n",
            "Epoch 7/200\n",
            "1/1 [==============================] - 0s 3ms/step - loss: 0.7594\n",
            "Epoch 8/200\n",
            "1/1 [==============================] - 0s 7ms/step - loss: 0.6969\n",
            "Epoch 9/200\n",
            "1/1 [==============================] - 0s 4ms/step - loss: 0.6417\n",
            "Epoch 10/200\n",
            "1/1 [==============================] - 0s 4ms/step - loss: 0.5910\n",
            "Epoch 11/200\n",
            "1/1 [==============================] - 0s 5ms/step - loss: 0.5443\n",
            "Epoch 12/200\n",
            "1/1 [==============================] - 0s 5ms/step - loss: 0.5010\n",
            "Epoch 13/200\n",
            "1/1 [==============================] - 0s 5ms/step - loss: 0.4611\n",
            "Epoch 14/200\n",
            "1/1 [==============================] - 0s 4ms/step - loss: 0.4241\n",
            "Epoch 15/200\n",
            "1/1 [==============================] - 0s 5ms/step - loss: 0.3900\n",
            "Epoch 16/200\n",
            "1/1 [==============================] - 0s 5ms/step - loss: 0.3585\n",
            "Epoch 17/200\n",
            "1/1 [==============================] - 0s 4ms/step - loss: 0.3294\n",
            "Epoch 18/200\n",
            "1/1 [==============================] - 0s 5ms/step - loss: 0.3025\n",
            "Epoch 19/200\n",
            "1/1 [==============================] - 0s 5ms/step - loss: 0.2777\n",
            "Epoch 20/200\n",
            "1/1 [==============================] - 0s 3ms/step - loss: 0.2549\n",
            "Epoch 21/200\n",
            "1/1 [==============================] - 0s 4ms/step - loss: 0.2338\n",
            "Epoch 22/200\n",
            "1/1 [==============================] - 0s 5ms/step - loss: 0.2144\n",
            "Epoch 23/200\n",
            "1/1 [==============================] - 0s 5ms/step - loss: 0.1966\n",
            "Epoch 24/200\n",
            "1/1 [==============================] - 0s 4ms/step - loss: 0.1801\n",
            "Epoch 25/200\n",
            "1/1 [==============================] - 0s 5ms/step - loss: 0.1650\n",
            "Epoch 26/200\n",
            "1/1 [==============================] - 0s 6ms/step - loss: 0.1511\n",
            "Epoch 27/200\n",
            "1/1 [==============================] - 0s 5ms/step - loss: 0.1383\n",
            "Epoch 28/200\n",
            "1/1 [==============================] - 0s 3ms/step - loss: 0.1265\n",
            "Epoch 29/200\n",
            "1/1 [==============================] - 0s 3ms/step - loss: 0.1157\n",
            "Epoch 30/200\n",
            "1/1 [==============================] - 0s 3ms/step - loss: 0.1058\n",
            "Epoch 31/200\n",
            "1/1 [==============================] - 0s 3ms/step - loss: 0.0967\n",
            "Epoch 32/200\n",
            "1/1 [==============================] - 0s 3ms/step - loss: 0.0884\n",
            "Epoch 33/200\n",
            "1/1 [==============================] - 0s 3ms/step - loss: 0.0808\n",
            "Epoch 34/200\n",
            "1/1 [==============================] - 0s 3ms/step - loss: 0.0737\n",
            "Epoch 35/200\n",
            "1/1 [==============================] - 0s 10ms/step - loss: 0.0673\n",
            "Epoch 36/200\n",
            "1/1 [==============================] - 0s 6ms/step - loss: 0.0615\n",
            "Epoch 37/200\n",
            "1/1 [==============================] - 0s 5ms/step - loss: 0.0561\n",
            "Epoch 38/200\n",
            "1/1 [==============================] - 0s 6ms/step - loss: 0.0512\n",
            "Epoch 39/200\n",
            "1/1 [==============================] - 0s 5ms/step - loss: 0.0467\n",
            "Epoch 40/200\n",
            "1/1 [==============================] - 0s 4ms/step - loss: 0.0425\n",
            "Epoch 41/200\n",
            "1/1 [==============================] - 0s 5ms/step - loss: 0.0388\n",
            "Epoch 42/200\n",
            "1/1 [==============================] - 0s 5ms/step - loss: 0.0354\n",
            "Epoch 43/200\n",
            "1/1 [==============================] - 0s 5ms/step - loss: 0.0322\n",
            "Epoch 44/200\n",
            "1/1 [==============================] - 0s 4ms/step - loss: 0.0293\n",
            "Epoch 45/200\n",
            "1/1 [==============================] - 0s 4ms/step - loss: 0.0267\n",
            "Epoch 46/200\n",
            "1/1 [==============================] - 0s 4ms/step - loss: 0.0243\n",
            "Epoch 47/200\n",
            "1/1 [==============================] - 0s 4ms/step - loss: 0.0222\n",
            "Epoch 48/200\n",
            "1/1 [==============================] - 0s 6ms/step - loss: 0.0202\n",
            "Epoch 49/200\n",
            "1/1 [==============================] - 0s 4ms/step - loss: 0.0184\n",
            "Epoch 50/200\n",
            "1/1 [==============================] - 0s 5ms/step - loss: 0.0167\n",
            "Epoch 51/200\n",
            "1/1 [==============================] - 0s 5ms/step - loss: 0.0152\n",
            "Epoch 52/200\n",
            "1/1 [==============================] - 0s 3ms/step - loss: 0.0138\n",
            "Epoch 53/200\n",
            "1/1 [==============================] - 0s 5ms/step - loss: 0.0126\n",
            "Epoch 54/200\n",
            "1/1 [==============================] - 0s 5ms/step - loss: 0.0114\n",
            "Epoch 55/200\n",
            "1/1 [==============================] - 0s 4ms/step - loss: 0.0104\n",
            "Epoch 56/200\n",
            "1/1 [==============================] - 0s 5ms/step - loss: 0.0095\n",
            "Epoch 57/200\n",
            "1/1 [==============================] - 0s 5ms/step - loss: 0.0086\n",
            "Epoch 58/200\n",
            "1/1 [==============================] - 0s 4ms/step - loss: 0.0078\n",
            "Epoch 59/200\n",
            "1/1 [==============================] - 0s 4ms/step - loss: 0.0071\n",
            "Epoch 60/200\n",
            "1/1 [==============================] - 0s 5ms/step - loss: 0.0065\n",
            "Epoch 61/200\n",
            "1/1 [==============================] - 0s 6ms/step - loss: 0.0059\n",
            "Epoch 62/200\n",
            "1/1 [==============================] - 0s 4ms/step - loss: 0.0053\n",
            "Epoch 63/200\n",
            "1/1 [==============================] - 0s 3ms/step - loss: 0.0048\n",
            "Epoch 64/200\n",
            "1/1 [==============================] - 0s 4ms/step - loss: 0.0044\n",
            "Epoch 65/200\n",
            "1/1 [==============================] - 0s 4ms/step - loss: 0.0040\n",
            "Epoch 66/200\n",
            "1/1 [==============================] - 0s 4ms/step - loss: 0.0036\n",
            "Epoch 67/200\n",
            "1/1 [==============================] - 0s 4ms/step - loss: 0.0033\n",
            "Epoch 68/200\n",
            "1/1 [==============================] - 0s 5ms/step - loss: 0.0030\n",
            "Epoch 69/200\n",
            "1/1 [==============================] - 0s 4ms/step - loss: 0.0027\n",
            "Epoch 70/200\n",
            "1/1 [==============================] - 0s 5ms/step - loss: 0.0025\n",
            "Epoch 71/200\n",
            "1/1 [==============================] - 0s 4ms/step - loss: 0.0022\n",
            "Epoch 72/200\n",
            "1/1 [==============================] - 0s 5ms/step - loss: 0.0020\n",
            "Epoch 73/200\n",
            "1/1 [==============================] - 0s 4ms/step - loss: 0.0018\n",
            "Epoch 74/200\n",
            "1/1 [==============================] - 0s 4ms/step - loss: 0.0017\n",
            "Epoch 75/200\n",
            "1/1 [==============================] - 0s 5ms/step - loss: 0.0015\n",
            "Epoch 76/200\n",
            "1/1 [==============================] - 0s 4ms/step - loss: 0.0014\n",
            "Epoch 77/200\n",
            "1/1 [==============================] - 0s 4ms/step - loss: 0.0013\n",
            "Epoch 78/200\n",
            "1/1 [==============================] - 0s 8ms/step - loss: 0.0011\n",
            "Epoch 79/200\n",
            "1/1 [==============================] - 0s 8ms/step - loss: 0.0010\n",
            "Epoch 80/200\n",
            "1/1 [==============================] - 0s 6ms/step - loss: 9.3722e-04\n",
            "Epoch 81/200\n",
            "1/1 [==============================] - 0s 6ms/step - loss: 8.5050e-04\n",
            "Epoch 82/200\n",
            "1/1 [==============================] - 0s 6ms/step - loss: 7.7177e-04\n",
            "Epoch 83/200\n",
            "1/1 [==============================] - 0s 6ms/step - loss: 7.0030e-04\n",
            "Epoch 84/200\n",
            "1/1 [==============================] - 0s 5ms/step - loss: 6.3543e-04\n",
            "Epoch 85/200\n",
            "1/1 [==============================] - 0s 6ms/step - loss: 5.7654e-04\n",
            "Epoch 86/200\n",
            "1/1 [==============================] - 0s 6ms/step - loss: 5.2310e-04\n",
            "Epoch 87/200\n",
            "1/1 [==============================] - 0s 6ms/step - loss: 4.7459e-04\n",
            "Epoch 88/200\n",
            "1/1 [==============================] - 0s 6ms/step - loss: 4.3058e-04\n",
            "Epoch 89/200\n",
            "1/1 [==============================] - 0s 7ms/step - loss: 3.9063e-04\n",
            "Epoch 90/200\n",
            "1/1 [==============================] - 0s 5ms/step - loss: 3.5437e-04\n",
            "Epoch 91/200\n",
            "1/1 [==============================] - 0s 7ms/step - loss: 3.2148e-04\n",
            "Epoch 92/200\n",
            "1/1 [==============================] - 0s 4ms/step - loss: 2.9163e-04\n",
            "Epoch 93/200\n",
            "1/1 [==============================] - 0s 4ms/step - loss: 2.6455e-04\n",
            "Epoch 94/200\n",
            "1/1 [==============================] - 0s 5ms/step - loss: 2.3997e-04\n",
            "Epoch 95/200\n",
            "1/1 [==============================] - 0s 5ms/step - loss: 2.1767e-04\n",
            "Epoch 96/200\n",
            "1/1 [==============================] - 0s 5ms/step - loss: 1.9744e-04\n",
            "Epoch 97/200\n",
            "1/1 [==============================] - 0s 5ms/step - loss: 1.7909e-04\n",
            "Epoch 98/200\n",
            "1/1 [==============================] - 0s 5ms/step - loss: 1.6244e-04\n",
            "Epoch 99/200\n",
            "1/1 [==============================] - 0s 4ms/step - loss: 1.4734e-04\n",
            "Epoch 100/200\n",
            "1/1 [==============================] - 0s 5ms/step - loss: 1.3364e-04\n",
            "Epoch 101/200\n",
            "1/1 [==============================] - 0s 6ms/step - loss: 1.2121e-04\n",
            "Epoch 102/200\n",
            "1/1 [==============================] - 0s 6ms/step - loss: 1.0993e-04\n",
            "Epoch 103/200\n",
            "1/1 [==============================] - 0s 7ms/step - loss: 9.9704e-05\n",
            "Epoch 104/200\n",
            "1/1 [==============================] - 0s 8ms/step - loss: 9.0426e-05\n",
            "Epoch 105/200\n",
            "1/1 [==============================] - 0s 11ms/step - loss: 8.2010e-05\n",
            "Epoch 106/200\n",
            "1/1 [==============================] - 0s 6ms/step - loss: 7.4379e-05\n",
            "Epoch 107/200\n",
            "1/1 [==============================] - 0s 7ms/step - loss: 6.7454e-05\n",
            "Epoch 108/200\n",
            "1/1 [==============================] - 0s 3ms/step - loss: 6.1174e-05\n",
            "Epoch 109/200\n",
            "1/1 [==============================] - 0s 8ms/step - loss: 5.5478e-05\n",
            "Epoch 110/200\n",
            "1/1 [==============================] - 0s 5ms/step - loss: 5.0311e-05\n",
            "Epoch 111/200\n",
            "1/1 [==============================] - 0s 6ms/step - loss: 4.5626e-05\n",
            "Epoch 112/200\n",
            "1/1 [==============================] - 0s 4ms/step - loss: 4.1377e-05\n",
            "Epoch 113/200\n",
            "1/1 [==============================] - 0s 4ms/step - loss: 3.7525e-05\n",
            "Epoch 114/200\n",
            "1/1 [==============================] - 0s 4ms/step - loss: 3.4028e-05\n",
            "Epoch 115/200\n",
            "1/1 [==============================] - 0s 5ms/step - loss: 3.0858e-05\n",
            "Epoch 116/200\n",
            "1/1 [==============================] - 0s 9ms/step - loss: 2.7985e-05\n",
            "Epoch 117/200\n",
            "1/1 [==============================] - 0s 7ms/step - loss: 2.5376e-05\n",
            "Epoch 118/200\n",
            "1/1 [==============================] - 0s 6ms/step - loss: 2.3012e-05\n",
            "Epoch 119/200\n",
            "1/1 [==============================] - 0s 5ms/step - loss: 2.0867e-05\n",
            "Epoch 120/200\n",
            "1/1 [==============================] - 0s 5ms/step - loss: 1.8923e-05\n",
            "Epoch 121/200\n",
            "1/1 [==============================] - 0s 6ms/step - loss: 1.7159e-05\n",
            "Epoch 122/200\n",
            "1/1 [==============================] - 0s 11ms/step - loss: 1.5559e-05\n",
            "Epoch 123/200\n",
            "1/1 [==============================] - 0s 10ms/step - loss: 1.4109e-05\n",
            "Epoch 124/200\n",
            "1/1 [==============================] - 0s 8ms/step - loss: 1.2794e-05\n",
            "Epoch 125/200\n",
            "1/1 [==============================] - 0s 5ms/step - loss: 1.1601e-05\n",
            "Epoch 126/200\n",
            "1/1 [==============================] - 0s 8ms/step - loss: 1.0520e-05\n",
            "Epoch 127/200\n",
            "1/1 [==============================] - 0s 5ms/step - loss: 9.5401e-06\n",
            "Epoch 128/200\n",
            "1/1 [==============================] - 0s 5ms/step - loss: 8.6498e-06\n",
            "Epoch 129/200\n",
            "1/1 [==============================] - 0s 8ms/step - loss: 7.8443e-06\n",
            "Epoch 130/200\n",
            "1/1 [==============================] - 0s 5ms/step - loss: 7.1121e-06\n",
            "Epoch 131/200\n",
            "1/1 [==============================] - 0s 8ms/step - loss: 6.4495e-06\n",
            "Epoch 132/200\n",
            "1/1 [==============================] - 0s 5ms/step - loss: 5.8482e-06\n",
            "Epoch 133/200\n",
            "1/1 [==============================] - 0s 6ms/step - loss: 5.3029e-06\n",
            "Epoch 134/200\n",
            "1/1 [==============================] - 0s 5ms/step - loss: 4.8090e-06\n",
            "Epoch 135/200\n",
            "1/1 [==============================] - 0s 7ms/step - loss: 4.3598e-06\n",
            "Epoch 136/200\n",
            "1/1 [==============================] - 0s 5ms/step - loss: 3.9534e-06\n",
            "Epoch 137/200\n",
            "1/1 [==============================] - 0s 5ms/step - loss: 3.5844e-06\n",
            "Epoch 138/200\n",
            "1/1 [==============================] - 0s 5ms/step - loss: 3.2505e-06\n",
            "Epoch 139/200\n",
            "1/1 [==============================] - 0s 5ms/step - loss: 2.9470e-06\n",
            "Epoch 140/200\n",
            "1/1 [==============================] - 0s 4ms/step - loss: 2.6721e-06\n",
            "Epoch 141/200\n",
            "1/1 [==============================] - 0s 4ms/step - loss: 2.4227e-06\n",
            "Epoch 142/200\n",
            "1/1 [==============================] - 0s 5ms/step - loss: 2.1970e-06\n",
            "Epoch 143/200\n",
            "1/1 [==============================] - 0s 4ms/step - loss: 1.9925e-06\n",
            "Epoch 144/200\n",
            "1/1 [==============================] - 0s 5ms/step - loss: 1.8067e-06\n",
            "Epoch 145/200\n",
            "1/1 [==============================] - 0s 4ms/step - loss: 1.6380e-06\n",
            "Epoch 146/200\n",
            "1/1 [==============================] - 0s 5ms/step - loss: 1.4852e-06\n",
            "Epoch 147/200\n",
            "1/1 [==============================] - 0s 4ms/step - loss: 1.3463e-06\n",
            "Epoch 148/200\n",
            "1/1 [==============================] - 0s 4ms/step - loss: 1.2208e-06\n",
            "Epoch 149/200\n",
            "1/1 [==============================] - 0s 4ms/step - loss: 1.1074e-06\n",
            "Epoch 150/200\n",
            "1/1 [==============================] - 0s 4ms/step - loss: 1.0042e-06\n",
            "Epoch 151/200\n",
            "1/1 [==============================] - 0s 4ms/step - loss: 9.1007e-07\n",
            "Epoch 152/200\n",
            "1/1 [==============================] - 0s 4ms/step - loss: 8.2532e-07\n",
            "Epoch 153/200\n",
            "1/1 [==============================] - 0s 6ms/step - loss: 7.4839e-07\n",
            "Epoch 154/200\n",
            "1/1 [==============================] - 0s 6ms/step - loss: 6.7844e-07\n",
            "Epoch 155/200\n",
            "1/1 [==============================] - 0s 5ms/step - loss: 6.1529e-07\n",
            "Epoch 156/200\n",
            "1/1 [==============================] - 0s 4ms/step - loss: 5.5770e-07\n",
            "Epoch 157/200\n",
            "1/1 [==============================] - 0s 5ms/step - loss: 5.0581e-07\n",
            "Epoch 158/200\n",
            "1/1 [==============================] - 0s 6ms/step - loss: 4.5856e-07\n",
            "Epoch 159/200\n",
            "1/1 [==============================] - 0s 5ms/step - loss: 4.1581e-07\n",
            "Epoch 160/200\n",
            "1/1 [==============================] - 0s 5ms/step - loss: 3.7705e-07\n",
            "Epoch 161/200\n",
            "1/1 [==============================] - 0s 4ms/step - loss: 3.4195e-07\n",
            "Epoch 162/200\n",
            "1/1 [==============================] - 0s 4ms/step - loss: 3.0998e-07\n",
            "Epoch 163/200\n",
            "1/1 [==============================] - 0s 10ms/step - loss: 2.8108e-07\n",
            "Epoch 164/200\n",
            "1/1 [==============================] - 0s 6ms/step - loss: 2.5490e-07\n",
            "Epoch 165/200\n",
            "1/1 [==============================] - 0s 3ms/step - loss: 2.3110e-07\n",
            "Epoch 166/200\n",
            "1/1 [==============================] - 0s 4ms/step - loss: 2.0967e-07\n",
            "Epoch 167/200\n",
            "1/1 [==============================] - 0s 5ms/step - loss: 1.8991e-07\n",
            "Epoch 168/200\n",
            "1/1 [==============================] - 0s 4ms/step - loss: 1.7216e-07\n",
            "Epoch 169/200\n",
            "1/1 [==============================] - 0s 5ms/step - loss: 1.5626e-07\n",
            "Epoch 170/200\n",
            "1/1 [==============================] - 0s 8ms/step - loss: 1.4165e-07\n",
            "Epoch 171/200\n",
            "1/1 [==============================] - 0s 4ms/step - loss: 1.2837e-07\n",
            "Epoch 172/200\n",
            "1/1 [==============================] - 0s 4ms/step - loss: 1.1642e-07\n",
            "Epoch 173/200\n",
            "1/1 [==============================] - 0s 15ms/step - loss: 1.0561e-07\n",
            "Epoch 174/200\n",
            "1/1 [==============================] - 0s 15ms/step - loss: 9.5703e-08\n",
            "Epoch 175/200\n",
            "1/1 [==============================] - 0s 5ms/step - loss: 8.6813e-08\n",
            "Epoch 176/200\n",
            "1/1 [==============================] - 0s 3ms/step - loss: 7.8641e-08\n",
            "Epoch 177/200\n",
            "1/1 [==============================] - 0s 4ms/step - loss: 7.1344e-08\n",
            "Epoch 178/200\n",
            "1/1 [==============================] - 0s 5ms/step - loss: 6.4735e-08\n",
            "Epoch 179/200\n",
            "1/1 [==============================] - 0s 4ms/step - loss: 5.8693e-08\n",
            "Epoch 180/200\n",
            "1/1 [==============================] - 0s 3ms/step - loss: 5.3197e-08\n",
            "Epoch 181/200\n",
            "1/1 [==============================] - 0s 5ms/step - loss: 4.8193e-08\n",
            "Epoch 182/200\n",
            "1/1 [==============================] - 0s 8ms/step - loss: 4.3721e-08\n",
            "Epoch 183/200\n",
            "1/1 [==============================] - 0s 5ms/step - loss: 3.9626e-08\n",
            "Epoch 184/200\n",
            "1/1 [==============================] - 0s 5ms/step - loss: 3.5917e-08\n",
            "Epoch 185/200\n",
            "1/1 [==============================] - 0s 5ms/step - loss: 3.2546e-08\n",
            "Epoch 186/200\n",
            "1/1 [==============================] - 0s 4ms/step - loss: 2.9567e-08\n",
            "Epoch 187/200\n",
            "1/1 [==============================] - 0s 4ms/step - loss: 2.6761e-08\n",
            "Epoch 188/200\n",
            "1/1 [==============================] - 0s 4ms/step - loss: 2.4320e-08\n",
            "Epoch 189/200\n",
            "1/1 [==============================] - 0s 4ms/step - loss: 2.2029e-08\n",
            "Epoch 190/200\n",
            "1/1 [==============================] - 0s 5ms/step - loss: 1.9986e-08\n",
            "Epoch 191/200\n",
            "1/1 [==============================] - 0s 4ms/step - loss: 1.8095e-08\n",
            "Epoch 192/200\n",
            "1/1 [==============================] - 0s 4ms/step - loss: 1.6445e-08\n",
            "Epoch 193/200\n",
            "1/1 [==============================] - 0s 4ms/step - loss: 1.4894e-08\n",
            "Epoch 194/200\n",
            "1/1 [==============================] - 0s 5ms/step - loss: 1.3529e-08\n",
            "Epoch 195/200\n",
            "1/1 [==============================] - 0s 4ms/step - loss: 1.2249e-08\n",
            "Epoch 196/200\n",
            "1/1 [==============================] - 0s 5ms/step - loss: 1.1096e-08\n",
            "Epoch 197/200\n",
            "1/1 [==============================] - 0s 3ms/step - loss: 1.0057e-08\n",
            "Epoch 198/200\n",
            "1/1 [==============================] - 0s 4ms/step - loss: 9.1382e-09\n",
            "Epoch 199/200\n",
            "1/1 [==============================] - 0s 3ms/step - loss: 8.2427e-09\n",
            "Epoch 200/200\n",
            "1/1 [==============================] - 0s 4ms/step - loss: 7.5144e-09\n"
          ],
          "name": "stdout"
        }
      ]
    },
    {
      "cell_type": "code",
      "metadata": {
        "colab": {
          "base_uri": "https://localhost:8080/",
          "height": 295
        },
        "id": "JGxoHxAXABZu",
        "outputId": "63c3477d-2c0e-4fb2-b694-8f2f692b8c0b"
      },
      "source": [
        "plt.title('Loss Curve')\r\n",
        "plt.plot(history1.history['loss'], label='Single Neuron')\r\n",
        "plt.plot(history2.history['loss'], label='MLP')\r\n",
        "plt.ylabel('loss')\r\n",
        "plt.xlabel('epoch')\r\n",
        "plt.legend()\r\n",
        "plt.show()"
      ],
      "execution_count": 11,
      "outputs": [
        {
          "output_type": "display_data",
          "data": {
            "image/png": "[encoded data removed]",
            "text/plain": [
              "<Figure size 432x288 with 1 Axes>"
            ]
          },
          "metadata": {
            "tags": [],
            "needs_background": "light"
          }
        }
      ]
    },
    {
      "cell_type": "code",
      "metadata": {
        "colab": {
          "base_uri": "https://localhost:8080/"
        },
        "id": "5NA1htOXADp1",
        "outputId": "062244de-f489-4140-d996-0059c6eb5561"
      },
      "source": [
        "model.predict([10.0])"
      ],
      "execution_count": 12,
      "outputs": [
        {
          "output_type": "execute_result",
          "data": {
            "text/plain": [
              "array([[18.999773]], dtype=float32)"
            ]
          },
          "metadata": {
            "tags": []
          },
          "execution_count": 12
        }
      ]
    },
    {
      "cell_type": "markdown",
      "metadata": {
        "id": "CEFOKU_2gdgr"
      },
      "source": [
        "### 3.2 Activation Functions\r\n",
        "\r\n",
        "![image](https://www.researchgate.net/profile/Junxi_Feng/publication/335845675/figure/fig3/AS:804124836765699@1568729709680/Commonly-used-activation-functions-a-Sigmoid-b-Tanh-c-ReLU-and-d-LReLU.ppm)\r\n",
        "\r\n",
        "Back in our discussion about the neuron, we know that an activaiton function is quite crucial in getting the right values. Different activation functions are used for different objectives of learning. One factor to consider in choosing an activation function is the behavior of outputs per layer or the expected output of the machine learning task. Simply, identifying whether you are classifying data or predicting data could help which activation function to use.\r\n",
        "\r\n",
        "For a deeper discussion and implementation check out:\r\n",
        "* [Activation functions in TensorFlow](https://www.tensorflow.org/api_docs/python/tf/keras/activations)\r\n",
        "* [Activation functions in Keras](https://keras.io/api/layers/activations/)\r\n"
      ]
    },
    {
      "cell_type": "code",
      "metadata": {
        "id": "y1UktcMkL8os"
      },
      "source": [
        "from tensorflow.keras.layers import Activation\r\n",
        "from tensorflow.nn import sigmoid, tanh, softmax, relu, leaky_relu"
      ],
      "execution_count": 2,
      "outputs": []
    },
    {
      "cell_type": "code",
      "metadata": {
        "colab": {
          "base_uri": "https://localhost:8080/"
        },
        "id": "fGE7yR7sOtS5",
        "outputId": "e07403b7-4a28-4ca3-ba2f-ed8a46472737"
      },
      "source": [
        "inputs = tf.constant([\r\n",
        "                      [0.0,-1.2,2.4,32.0,-20.1]\r\n",
        "                      ])\r\n",
        "print(inputs)"
      ],
      "execution_count": 14,
      "outputs": [
        {
          "output_type": "stream",
          "text": [
            "tf.Tensor([[  0.   -1.2   2.4  32.  -20.1]], shape=(1, 5), dtype=float32)\n"
          ],
          "name": "stdout"
        }
      ]
    },
    {
      "cell_type": "code",
      "metadata": {
        "colab": {
          "base_uri": "https://localhost:8080/"
        },
        "id": "e2okgbGyLtto",
        "outputId": "d60dde1f-db00-4cb5-a02d-31c78f694042"
      },
      "source": [
        "### Sigmoid\r\n",
        "sigmoid_layer = Activation(sigmoid)\r\n",
        "sigmoid_layer(inputs).numpy()"
      ],
      "execution_count": 15,
      "outputs": [
        {
          "output_type": "execute_result",
          "data": {
            "text/plain": [
              "array([[5.0000000e-01, 2.3147522e-01, 9.1682732e-01, 1.0000000e+00,\n",
              "        1.8650081e-09]], dtype=float32)"
            ]
          },
          "metadata": {
            "tags": []
          },
          "execution_count": 15
        }
      ]
    },
    {
      "cell_type": "code",
      "metadata": {
        "colab": {
          "base_uri": "https://localhost:8080/"
        },
        "id": "M9OCh5YjL1Td",
        "outputId": "538230b3-e399-4d65-f80d-6bb51a60ed2e"
      },
      "source": [
        "### Tanh\r\n",
        "tanh_layer = Activation(tanh)\r\n",
        "tanh_layer(inputs).numpy()"
      ],
      "execution_count": 41,
      "outputs": [
        {
          "output_type": "execute_result",
          "data": {
            "text/plain": [
              "array([[ 0.        , -0.8336546 ,  0.98367494,  1.        , -1.        ]],\n",
              "      dtype=float32)"
            ]
          },
          "metadata": {
            "tags": []
          },
          "execution_count": 41
        }
      ]
    },
    {
      "cell_type": "code",
      "metadata": {
        "colab": {
          "base_uri": "https://localhost:8080/"
        },
        "id": "M9lwERY0NMCk",
        "outputId": "7112d57b-70cb-48c0-a064-f7543bca78c8"
      },
      "source": [
        "### Softmax\r\n",
        "softmax_layer = Activation(softmax)\r\n",
        "softmax_layer(inputs).numpy()"
      ],
      "execution_count": 42,
      "outputs": [
        {
          "output_type": "execute_result",
          "data": {
            "text/plain": [
              "array([[1.2664166e-14, 3.8143706e-15, 1.3959928e-13, 1.0000000e+00,\n",
              "        2.3618817e-23]], dtype=float32)"
            ]
          },
          "metadata": {
            "tags": []
          },
          "execution_count": 42
        }
      ]
    },
    {
      "cell_type": "code",
      "metadata": {
        "colab": {
          "base_uri": "https://localhost:8080/"
        },
        "id": "61c_pc6TLvnQ",
        "outputId": "2c152eff-eb69-4688-e400-d4ffdf48e76e"
      },
      "source": [
        "### ReLU\r\n",
        "relu_layer = Activation(relu)\r\n",
        "relu_layer(inputs).numpy()"
      ],
      "execution_count": 43,
      "outputs": [
        {
          "output_type": "execute_result",
          "data": {
            "text/plain": [
              "array([[ 0. ,  0. ,  2.4, 32. ,  0. ]], dtype=float32)"
            ]
          },
          "metadata": {
            "tags": []
          },
          "execution_count": 43
        }
      ]
    },
    {
      "cell_type": "code",
      "metadata": {
        "colab": {
          "base_uri": "https://localhost:8080/"
        },
        "id": "FExN1MOuLxsM",
        "outputId": "20948847-f9fb-46b2-e507-0eb70fca64a4"
      },
      "source": [
        "### Leaky ReLU\r\n",
        "lrelu_layer = Activation(leaky_relu)\r\n",
        "lrelu_layer(inputs).numpy()"
      ],
      "execution_count": 44,
      "outputs": [
        {
          "output_type": "execute_result",
          "data": {
            "text/plain": [
              "array([[ 0.        , -0.24000001,  2.4       , 32.        , -4.02      ]],\n",
              "      dtype=float32)"
            ]
          },
          "metadata": {
            "tags": []
          },
          "execution_count": 44
        }
      ]
    },
    {
      "cell_type": "markdown",
      "metadata": {
        "id": "1-8PIV6DgL-j"
      },
      "source": [
        "### 3.3 Computer Vision\r\n",
        "Using deep neural network to solve image processing problems leads to the developing computer vision solutions. The goal of computer vision is to mimic the visio-cognitive functions of the brain. The main activities being done in computer vision include image and video recognition systems. For almost a decade there are a lot of effort being made in improving image systems in which the following tasks were introduced:\r\n",
        "![image](https://3.bp.blogspot.com/-e-V_TvNbMSc/XJ7uRvmc4CI/AAAAAAAADPo/47Cg4DqI-g45qQEDRYuPwgaEiqqYDq2wACLcBGAs/s1600/cnn-extensions.png)"
      ]
    },
    {
      "cell_type": "code",
      "metadata": {
        "id": "wc093sCuDPkm"
      },
      "source": [
        "from tensorflow.keras.losses import sparse_categorical_crossentropy\r\n",
        "from tensorflow.keras.optimizers import Adam, RMSprop, SGD"
      ],
      "execution_count": 10,
      "outputs": []
    },
    {
      "cell_type": "code",
      "metadata": {
        "colab": {
          "base_uri": "https://localhost:8080/"
        },
        "id": "e1CWzEiHCPe3",
        "outputId": "0429c39d-a22c-4709-e2fc-4320b67397d1"
      },
      "source": [
        "mnist = tf.keras.datasets.mnist\r\n",
        "(training_images, training_labels), (test_images, test_labels) = mnist.load_data()"
      ],
      "execution_count": 5,
      "outputs": [
        {
          "output_type": "stream",
          "text": [
            "Downloading data from https://storage.googleapis.com/tensorflow/tf-keras-datasets/mnist.npz\n",
            "11493376/11490434 [==============================] - 0s 0us/step\n"
          ],
          "name": "stdout"
        }
      ]
    },
    {
      "cell_type": "code",
      "metadata": {
        "colab": {
          "base_uri": "https://localhost:8080/",
          "height": 283
        },
        "id": "J4oIE52FCZ_u",
        "outputId": "e9fd2b74-6508-4625-86d9-1ba1ec921ee8"
      },
      "source": [
        "plt.imshow(training_images[0])\r\n",
        "training_images[0].shape"
      ],
      "execution_count": 6,
      "outputs": [
        {
          "output_type": "execute_result",
          "data": {
            "text/plain": [
              "(28, 28)"
            ]
          },
          "metadata": {
            "tags": []
          },
          "execution_count": 6
        },
        {
          "output_type": "display_data",
          "data": {
            "image/png": "[encoded data removed]",
            "text/plain": [
              "<Figure size 432x288 with 1 Axes>"
            ]
          },
          "metadata": {
            "tags": [],
            "needs_background": "light"
          }
        }
      ]
    },
    {
      "cell_type": "code",
      "metadata": {
        "id": "wUBDJz-YCTlt"
      },
      "source": [
        "training_images  = training_images / 255.0\r\n",
        "test_images = test_images / 255.0\r\n"
      ],
      "execution_count": 7,
      "outputs": []
    },
    {
      "cell_type": "code",
      "metadata": {
        "id": "373S4w6ICVvt"
      },
      "source": [
        "model = tf.keras.models.Sequential([\r\n",
        "                                    tf.keras.layers.Flatten(), \r\n",
        "                                    tf.keras.layers.Dense(64, activation=relu), \r\n",
        "                                    tf.keras.layers.Dense(10, activation=softmax)\r\n",
        "])"
      ],
      "execution_count": 14,
      "outputs": []
    },
    {
      "cell_type": "code",
      "metadata": {
        "colab": {
          "base_uri": "https://localhost:8080/"
        },
        "id": "48EODZC9DEN-",
        "outputId": "dcafc2fe-4bca-45f2-e899-556e19895c5b"
      },
      "source": [
        "model.compile(optimizer=Adam(),\r\n",
        "              loss=sparse_categorical_crossentropy,\r\n",
        "              metrics=['accuracy'])\r\n",
        "history3 = model.fit(training_images, training_labels, epochs=5)"
      ],
      "execution_count": 15,
      "outputs": [
        {
          "output_type": "stream",
          "text": [
            "Epoch 1/5\n",
            "1875/1875 [==============================] - 3s 2ms/step - loss: 0.5047 - accuracy: 0.8552\n",
            "Epoch 2/5\n",
            "1875/1875 [==============================] - 3s 2ms/step - loss: 0.1539 - accuracy: 0.9559\n",
            "Epoch 3/5\n",
            "1875/1875 [==============================] - 3s 2ms/step - loss: 0.1020 - accuracy: 0.9696\n",
            "Epoch 4/5\n",
            "1875/1875 [==============================] - 3s 2ms/step - loss: 0.0838 - accuracy: 0.9751\n",
            "Epoch 5/5\n",
            "1875/1875 [==============================] - 3s 2ms/step - loss: 0.0638 - accuracy: 0.9812\n"
          ],
          "name": "stdout"
        }
      ]
    },
    {
      "cell_type": "code",
      "metadata": {
        "colab": {
          "base_uri": "https://localhost:8080/",
          "height": 295
        },
        "id": "kw46Y5snDmwF",
        "outputId": "cde9c532-9e1b-408e-8a7d-cf26275a017c"
      },
      "source": [
        "plt.figure(figsize=(12,4))\r\n",
        "\r\n",
        "plt.subplot(121)\r\n",
        "plt.title('Loss Curve')\r\n",
        "plt.plot(history3.history['loss'])\r\n",
        "plt.ylabel('loss')\r\n",
        "plt.xlabel('epoch')\r\n",
        "\r\n",
        "plt.subplot(122)\r\n",
        "plt.title('Accuracy Curve')\r\n",
        "plt.plot(history3.history['accuracy'])\r\n",
        "plt.ylabel('accuracy')\r\n",
        "plt.xlabel('epoch')\r\n",
        "\r\n",
        "plt.show()"
      ],
      "execution_count": 16,
      "outputs": [
        {
          "output_type": "display_data",
          "data": {
            "image/png": "[encoded data removed]",
            "text/plain": [
              "<Figure size 864x288 with 2 Axes>"
            ]
          },
          "metadata": {
            "tags": [],
            "needs_background": "light"
          }
        }
      ]
    },
    {
      "cell_type": "code",
      "metadata": {
        "colab": {
          "base_uri": "https://localhost:8080/"
        },
        "id": "UY7gSg-8E5H_",
        "outputId": "08f39e1d-6a16-4c8d-81f6-28bff43cb5d6"
      },
      "source": [
        "model.evaluate(test_images, test_labels)"
      ],
      "execution_count": 17,
      "outputs": [
        {
          "output_type": "stream",
          "text": [
            "313/313 [==============================] - 1s 2ms/step - loss: 0.0884 - accuracy: 0.9744\n"
          ],
          "name": "stdout"
        },
        {
          "output_type": "execute_result",
          "data": {
            "text/plain": [
              "[0.08844652026891708, 0.974399983882904]"
            ]
          },
          "metadata": {
            "tags": []
          },
          "execution_count": 17
        }
      ]
    },
    {
      "cell_type": "markdown",
      "metadata": {
        "id": "2gh0Mvo4IryI"
      },
      "source": [
        "What if we add more layers?"
      ]
    },
    {
      "cell_type": "code",
      "metadata": {
        "id": "yTk7ac23fpZJ"
      },
      "source": [
        "model = tf.keras.models.Sequential([\r\n",
        "                                    tf.keras.layers.Flatten(), \r\n",
        "                                    tf.keras.layers.Dense(128, activation=relu), \r\n",
        "                                    tf.keras.layers.Dense(64, activation=relu),\r\n",
        "                                    tf.keras.layers.Dense(10, activation=softmax)\r\n",
        "])"
      ],
      "execution_count": 20,
      "outputs": []
    },
    {
      "cell_type": "code",
      "metadata": {
        "id": "R2z34Q0qfj-j",
        "colab": {
          "base_uri": "https://localhost:8080/"
        },
        "outputId": "e7154a45-54bd-4d26-ffa7-1846ec0ab952"
      },
      "source": [
        "model.compile(optimizer=Adam(),\r\n",
        "              loss=sparse_categorical_crossentropy,\r\n",
        "              metrics=['accuracy'])\r\n",
        "history4 = model.fit(training_images, training_labels, epochs=5)"
      ],
      "execution_count": 21,
      "outputs": [
        {
          "output_type": "stream",
          "text": [
            "Epoch 1/5\n",
            "1875/1875 [==============================] - 3s 2ms/step - loss: 0.4386 - accuracy: 0.8734\n",
            "Epoch 2/5\n",
            "1875/1875 [==============================] - 3s 2ms/step - loss: 0.1130 - accuracy: 0.9649\n",
            "Epoch 3/5\n",
            "1875/1875 [==============================] - 3s 2ms/step - loss: 0.0722 - accuracy: 0.9772\n",
            "Epoch 4/5\n",
            "1875/1875 [==============================] - 3s 2ms/step - loss: 0.0544 - accuracy: 0.9822\n",
            "Epoch 5/5\n",
            "1875/1875 [==============================] - 3s 2ms/step - loss: 0.0402 - accuracy: 0.9862\n"
          ],
          "name": "stdout"
        }
      ]
    },
    {
      "cell_type": "code",
      "metadata": {
        "colab": {
          "base_uri": "https://localhost:8080/",
          "height": 295
        },
        "id": "AOt6EBEQG6j-",
        "outputId": "ae34e96d-72d1-4282-a9ab-e21f2f9c1e8c"
      },
      "source": [
        "plt.figure(figsize=(12,4))\r\n",
        "\r\n",
        "plt.subplot(121)\r\n",
        "plt.title('Loss Curve')\r\n",
        "plt.plot(history4.history['loss'], label='2 Layers')\r\n",
        "plt.plot(history3.history['loss'], label='1 Layer')\r\n",
        "plt.legend()\r\n",
        "plt.ylabel('loss')\r\n",
        "plt.xlabel('epoch')\r\n",
        "\r\n",
        "plt.subplot(122)\r\n",
        "plt.title('Accuracy Curve')\r\n",
        "plt.plot(history4.history['accuracy'], label='2 Layers')\r\n",
        "plt.plot(history3.history['accuracy'], label='1 Layer')\r\n",
        "plt.ylabel('accuracy')\r\n",
        "plt.xlabel('epoch')\r\n",
        "plt.legend()\r\n",
        "\r\n",
        "plt.show()"
      ],
      "execution_count": 22,
      "outputs": [
        {
          "output_type": "display_data",
          "data": {
            "image/png": "[encoded data removed]",
            "text/plain": [
              "<Figure size 864x288 with 2 Axes>"
            ]
          },
          "metadata": {
            "tags": [],
            "needs_background": "light"
          }
        }
      ]
    },
    {
      "cell_type": "markdown",
      "metadata": {
        "id": "D0mIY5GCIQfY"
      },
      "source": [
        "### 3.4 Convolutional Neural Networks\r\n",
        "Last week, we saw what convolutions do to images to get or localize some features. In deep learning, convolutions have also proven very useful in extracting information from images and learning from them.\r\n",
        "\r\n",
        "In 1998, [LeCunn et. al](http://yann.lecun.com/exdb/publis/pdf/lecun-98.pdf) introduced the implementation of convolutional neural networks for computer vision. But the first idea of using convolutions for visual cognition was [first conceptualized](https://medium.com/@gopalkalpande/biological-inspiration-of-convolutional-neural-network-cnn-9419668898ac) by Hubel and Wiesel in 1962, taking consideration of the processes visual cortex of the brain.\r\n",
        "\r\n",
        "![image](https://miro.medium.com/max/4308/1*1TI1aGBZ4dybR6__DI9dzA.png)\r\n",
        "\r\n",
        "You may notice some new terminologies in this section, let's break down the technicalities of CNNs.\r\n",
        "\r\n",
        "<b>Feature Maps</b>—feature maps are the learnt filters for convolutions. Recall that we need kernels in to perform convolutions, in CNNs we are trying to learn which are the appropriate values of kernels to get the feature that we want from the image.\r\n",
        "\r\n",
        "<b>Subsampling</b>—subsampling is a method of reducing the dimensions of an image or feature maps but retaining vital information. To achieve this, we tend to use pooling techniques such as maxima pooling or average pooling.\r\n",
        "\r\n",
        "<b>Full connections</b>—in the later layers of a CNN feature maps are flattened into a vector so we could run in through an MLP to determine the defining features of the the image\r\n",
        "\r\n"
      ]
    },
    {
      "cell_type": "code",
      "metadata": {
        "id": "AnlLXpInKPY8"
      },
      "source": [
        "mnist = mnist = tf.keras.datasets.mnist\r\n",
        "(training_images, training_labels), (test_images, test_labels) = mnist.load_data()\r\n",
        "training_images=training_images.reshape(60000, 28, 28, 1)\r\n",
        "training_images=training_images / 255.0\r\n",
        "test_images = test_images.reshape(10000, 28, 28, 1)\r\n",
        "test_images=test_images/255.0"
      ],
      "execution_count": 23,
      "outputs": []
    },
    {
      "cell_type": "code",
      "metadata": {
        "colab": {
          "base_uri": "https://localhost:8080/"
        },
        "id": "FdEpinDgJBok",
        "outputId": "69066ac9-6481-4879-ee9e-83a785d8ce5f"
      },
      "source": [
        "model = tf.keras.models.Sequential([\r\n",
        "          tf.keras.layers.Conv2D(32, (3,3), \r\n",
        "                                 activation='relu', input_shape=(28,28,1)),\r\n",
        "          tf.keras.layers.MaxPooling2D((2,2)),\r\n",
        "          tf.keras.layers.Flatten(),\r\n",
        "          tf.keras.layers.Dense(128, activation='relu'),\r\n",
        "          tf.keras.layers.Dense(10, activation='softmax')\r\n",
        "])\r\n",
        "model.compile(\r\n",
        "    optimizer='adam',\r\n",
        "    loss=sparse_categorical_crossentropy,\r\n",
        "    metrics=['accuracy']\r\n",
        ")\r\n",
        "history5= model.fit(training_images, training_labels, epochs=5)"
      ],
      "execution_count": 25,
      "outputs": [
        {
          "output_type": "stream",
          "text": [
            "Epoch 1/5\n",
            "1875/1875 [==============================] - 4s 2ms/step - loss: 0.2994 - accuracy: 0.9123\n",
            "Epoch 2/5\n",
            "1875/1875 [==============================] - 4s 2ms/step - loss: 0.0512 - accuracy: 0.9846\n",
            "Epoch 3/5\n",
            "1875/1875 [==============================] - 4s 2ms/step - loss: 0.0315 - accuracy: 0.9903\n",
            "Epoch 4/5\n",
            "1875/1875 [==============================] - 4s 2ms/step - loss: 0.0198 - accuracy: 0.9939\n",
            "Epoch 5/5\n",
            "1875/1875 [==============================] - 4s 2ms/step - loss: 0.0129 - accuracy: 0.9958\n"
          ],
          "name": "stdout"
        }
      ]
    },
    {
      "cell_type": "code",
      "metadata": {
        "colab": {
          "base_uri": "https://localhost:8080/",
          "height": 295
        },
        "id": "2QItNtyPJ-Pd",
        "outputId": "ca5efe71-59f1-4ef1-a382-3ac4a91005bd"
      },
      "source": [
        "plt.figure(figsize=(12,4))\r\n",
        "\r\n",
        "plt.subplot(121)\r\n",
        "plt.title('Loss Curve')\r\n",
        "plt.plot(history5.history['loss'], label='CNN')\r\n",
        "plt.plot(history4.history['loss'], label='2 Layers')\r\n",
        "plt.plot(history3.history['loss'], label='1 Layer')\r\n",
        "plt.legend()\r\n",
        "plt.ylabel('loss')\r\n",
        "plt.xlabel('epoch')\r\n",
        "\r\n",
        "plt.subplot(122)\r\n",
        "plt.title('Accuracy Curve')\r\n",
        "plt.plot(history5.history['accuracy'], label='CNN')\r\n",
        "plt.plot(history4.history['accuracy'], label='2 Layers')\r\n",
        "plt.plot(history3.history['accuracy'], label='1 Layer')\r\n",
        "plt.ylabel('accuracy')\r\n",
        "plt.xlabel('epoch')\r\n",
        "plt.legend()\r\n",
        "\r\n",
        "plt.show()"
      ],
      "execution_count": 26,
      "outputs": [
        {
          "output_type": "display_data",
          "data": {
            "image/png": "[encoded data removed]",
            "text/plain": [
              "<Figure size 864x288 with 2 Axes>"
            ]
          },
          "metadata": {
            "tags": [],
            "needs_background": "light"
          }
        }
      ]
    },
    {
      "cell_type": "markdown",
      "metadata": {
        "id": "AvcQZtLeNxCW"
      },
      "source": [
        "## Part 4: Custom Training"
      ]
    },
    {
      "cell_type": "markdown",
      "metadata": {
        "id": "xeyfh8MwfzJT"
      },
      "source": [
        "### 4.1 Importing Images"
      ]
    },
    {
      "cell_type": "code",
      "metadata": {
        "colab": {
          "base_uri": "https://localhost:8080/"
        },
        "id": "cQ6VjcOcF4hm",
        "outputId": "a0f8d17a-738a-488e-836e-d5534b43ed3b"
      },
      "source": [
        "from google.colab import drive\r\n",
        "import os\r\n",
        "drive.mount('/content/drive')\r\n",
        "\r\n",
        "!ls drive/MyDrive/ICpEP\\ AI\\ Workshop\\ Files/ds/\r\n",
        "data_dir = \"drive/MyDrive/ICpEP AI Workshop Files/ds/\"\r\n",
        "dir = os.listdir(data_dir)\r\n",
        "for folder in dir:\r\n",
        "  print(os.listdir(data_dir+folder))"
      ],
      "execution_count": 28,
      "outputs": [
        {
          "output_type": "stream",
          "text": [
            "Drive already mounted at /content/drive; to attempt to forcibly remount, call drive.mount(\"/content/drive\", force_remount=True).\n",
            "test  train\n",
            "['dog', 'not-dog']\n",
            "['dog', 'not-dog']\n"
          ],
          "name": "stdout"
        }
      ]
    },
    {
      "cell_type": "code",
      "metadata": {
        "colab": {
          "base_uri": "https://localhost:8080/",
          "height": 285
        },
        "id": "W7q4JurSJSl-",
        "outputId": "94b2dc42-af8e-4e01-e687-695be5f843ce"
      },
      "source": [
        "dog_img = cv2.cvtColor(cv2.imread(data_dir+dir[0]+'/dog1.jpg'), \r\n",
        "                       cv2.COLOR_BGR2RGB)\r\n",
        "plt.imshow(dog_img)"
      ],
      "execution_count": 38,
      "outputs": [
        {
          "output_type": "execute_result",
          "data": {
            "text/plain": [
              "<matplotlib.image.AxesImage at 0x7f7f5e8539b0>"
            ]
          },
          "metadata": {
            "tags": []
          },
          "execution_count": 38
        },
        {
          "output_type": "display_data",
          "data": {
            "image/png": "[encoded data removed]",
            "text/plain": [
              "<Figure size 432x288 with 1 Axes>"
            ]
          },
          "metadata": {
            "tags": [],
            "needs_background": "light"
          }
        }
      ]
    },
    {
      "cell_type": "code",
      "metadata": {
        "id": "IFtgaba_KQIe"
      },
      "source": [
        "from tensorflow.keras.preprocessing.image import ImageDataGenerator"
      ],
      "execution_count": 30,
      "outputs": []
    },
    {
      "cell_type": "code",
      "metadata": {
        "colab": {
          "base_uri": "https://localhost:8080/"
        },
        "id": "UDMWuTkwLH23",
        "outputId": "60341f4b-ceee-428d-9e87-150142f821ae"
      },
      "source": [
        "TRAIN_DIR = data_dir+'train'\r\n",
        "train_datagen = ImageDataGenerator(rescale=1.0/255.)\r\n",
        "train_generator = train_datagen.flow_from_directory(TRAIN_DIR,\r\n",
        "                                                     class_mode='binary',\r\n",
        "                                                     target_size=(100,100))\r\n"
      ],
      "execution_count": 31,
      "outputs": [
        {
          "output_type": "stream",
          "text": [
            "Found 20 images belonging to 2 classes.\n"
          ],
          "name": "stdout"
        }
      ]
    },
    {
      "cell_type": "code",
      "metadata": {
        "id": "Nn3JWqd4a46T"
      },
      "source": [
        "model = tf.keras.models.Sequential([\r\n",
        "    tf.keras.layers.Conv2D(16, (3, 3), activation='relu', input_shape=(100, 100, 3)),\r\n",
        "    tf.keras.layers.MaxPooling2D(2, 2),\r\n",
        "    tf.keras.layers.Conv2D(32, (3, 3), activation='relu'),\r\n",
        "    tf.keras.layers.MaxPooling2D(2, 2),\r\n",
        "    tf.keras.layers.Conv2D(64, (3, 3), activation='relu'),\r\n",
        "    tf.keras.layers.MaxPooling2D(2, 2),\r\n",
        "    tf.keras.layers.Flatten(),\r\n",
        "    tf.keras.layers.Dense(512, activation='relu'),\r\n",
        "    tf.keras.layers.Dense(1, activation='sigmoid')\r\n",
        "])\r\n",
        "\r\n",
        "model.compile(optimizer=Adam(lr=0.001), loss='binary_crossentropy', metrics=['accuracy'])"
      ],
      "execution_count": 33,
      "outputs": []
    },
    {
      "cell_type": "code",
      "metadata": {
        "colab": {
          "base_uri": "https://localhost:8080/"
        },
        "id": "M_U24x3KbVtL",
        "outputId": "cd2d49eb-c146-4fae-d974-b0262624d1db"
      },
      "source": [
        "history6 = model.fit(train_generator,\r\n",
        "                              epochs=20,\r\n",
        "                              verbose=1)"
      ],
      "execution_count": 34,
      "outputs": [
        {
          "output_type": "stream",
          "text": [
            "Epoch 1/20\n",
            "1/1 [==============================] - 1s 616ms/step - loss: 0.6928 - accuracy: 0.5000\n",
            "Epoch 2/20\n",
            "1/1 [==============================] - 0s 39ms/step - loss: 0.6297 - accuracy: 0.5000\n",
            "Epoch 3/20\n",
            "1/1 [==============================] - 0s 39ms/step - loss: 0.9400 - accuracy: 0.5000\n",
            "Epoch 4/20\n",
            "1/1 [==============================] - 0s 38ms/step - loss: 0.5695 - accuracy: 0.5500\n",
            "Epoch 5/20\n",
            "1/1 [==============================] - 0s 40ms/step - loss: 0.5304 - accuracy: 0.6000\n",
            "Epoch 6/20\n",
            "1/1 [==============================] - 0s 39ms/step - loss: 0.5414 - accuracy: 0.6000\n",
            "Epoch 7/20\n",
            "1/1 [==============================] - 0s 41ms/step - loss: 0.4485 - accuracy: 0.8500\n",
            "Epoch 8/20\n",
            "1/1 [==============================] - 0s 40ms/step - loss: 0.3997 - accuracy: 1.0000\n",
            "Epoch 9/20\n",
            "1/1 [==============================] - 0s 44ms/step - loss: 0.3575 - accuracy: 1.0000\n",
            "Epoch 10/20\n",
            "1/1 [==============================] - 0s 43ms/step - loss: 0.2674 - accuracy: 0.9500\n",
            "Epoch 11/20\n",
            "1/1 [==============================] - 0s 42ms/step - loss: 0.2428 - accuracy: 0.9500\n",
            "Epoch 12/20\n",
            "1/1 [==============================] - 0s 45ms/step - loss: 0.1722 - accuracy: 0.9500\n",
            "Epoch 13/20\n",
            "1/1 [==============================] - 0s 41ms/step - loss: 0.1405 - accuracy: 1.0000\n",
            "Epoch 14/20\n",
            "1/1 [==============================] - 0s 40ms/step - loss: 0.1023 - accuracy: 1.0000\n",
            "Epoch 15/20\n",
            "1/1 [==============================] - 0s 40ms/step - loss: 0.0682 - accuracy: 1.0000\n",
            "Epoch 16/20\n",
            "1/1 [==============================] - 0s 40ms/step - loss: 0.0580 - accuracy: 1.0000\n",
            "Epoch 17/20\n",
            "1/1 [==============================] - 0s 42ms/step - loss: 0.0286 - accuracy: 1.0000\n",
            "Epoch 18/20\n",
            "1/1 [==============================] - 0s 55ms/step - loss: 0.0275 - accuracy: 1.0000\n",
            "Epoch 19/20\n",
            "1/1 [==============================] - 0s 45ms/step - loss: 0.0155 - accuracy: 1.0000\n",
            "Epoch 20/20\n",
            "1/1 [==============================] - 0s 43ms/step - loss: 0.0075 - accuracy: 1.0000\n"
          ],
          "name": "stdout"
        }
      ]
    },
    {
      "cell_type": "code",
      "metadata": {
        "colab": {
          "base_uri": "https://localhost:8080/",
          "height": 313
        },
        "id": "FuLjvNcubiXr",
        "outputId": "68172a19-720c-46c4-ab85-ab5e6cd09bd4"
      },
      "source": [
        "plt.figure(figsize=(12,4))\r\n",
        "\r\n",
        "plt.subplot(121)\r\n",
        "plt.title('Loss Curve')\r\n",
        "plt.plot(history6.history['loss'])\r\n",
        "plt.legend()\r\n",
        "plt.ylabel('loss')\r\n",
        "plt.xlabel('epoch')\r\n",
        "\r\n",
        "plt.subplot(122)\r\n",
        "plt.title('Accuracy Curve')\r\n",
        "plt.plot(history6.history['accuracy'])\r\n",
        "plt.ylabel('accuracy')\r\n",
        "plt.xlabel('epoch')\r\n",
        "\r\n",
        "plt.show()"
      ],
      "execution_count": 35,
      "outputs": [
        {
          "output_type": "stream",
          "text": [
            "No handles with labels found to put in legend.\n"
          ],
          "name": "stderr"
        },
        {
          "output_type": "display_data",
          "data": {
            "image/png": "[encoded data removed]",
            "text/plain": [
              "<Figure size 864x288 with 2 Axes>"
            ]
          },
          "metadata": {
            "tags": [],
            "needs_background": "light"
          }
        }
      ]
    },
    {
      "cell_type": "code",
      "metadata": {
        "colab": {
          "resources": {
            "http://localhost:8080/nbextensions/google.colab/files.js": {
              "data": "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",
              "ok": true,
              "headers": [
                [
                  "content-type",
                  "application/javascript"
                ]
              ],
              "status": 200,
              "status_text": ""
            }
          },
          "base_uri": "https://localhost:8080/",
          "height": 108
        },
        "id": "ze6TmuPgZxjE",
        "outputId": "246f29f7-45fa-444b-8dc7-7249bb825f2e"
      },
      "source": [
        "import numpy as np\r\n",
        "from google.colab import files\r\n",
        "from keras.preprocessing import image\r\n",
        "\r\n",
        "def upload_and_predict():\r\n",
        "  uploaded = files.upload()\r\n",
        "\r\n",
        "  for fn in uploaded.keys():\r\n",
        "  \r\n",
        "    # predicting images\r\n",
        "    path = '/content/' + fn\r\n",
        "    img = image.load_img(path, target_size=(100, 100))\r\n",
        "    x = image.img_to_array(img)\r\n",
        "    x = np.expand_dims(x, axis=0)\r\n",
        "\r\n",
        "    images = np.vstack([x])\r\n",
        "    classes = model.predict(images)\r\n",
        "    print(classes[0])\r\n",
        "    if classes[0]>0.5:\r\n",
        "      print(fn + \" is a dog\")\r\n",
        "    else:\r\n",
        "      print(fn + \" is not a dog\")\r\n",
        "upload_and_predict()"
      ],
      "execution_count": 36,
      "outputs": [
        {
          "output_type": "display_data",
          "data": {
            "text/html": [
              "\n",
              "     <input type=\"file\" id=\"files-2215566f-5dfa-47b7-af56-f1ae9f7d3c86\" name=\"files[]\" multiple disabled\n",
              "        style=\"border:none\" />\n",
              "     <output id=\"result-2215566f-5dfa-47b7-af56-f1ae9f7d3c86\">\n",
              "      Upload widget is only available when the cell has been executed in the\n",
              "      current browser session. Please rerun this cell to enable.\n",
              "      </output>\n",
              "      <script src=\"/nbextensions/google.colab/files.js\"></script> "
            ],
            "text/plain": [
              "<IPython.core.display.HTML object>"
            ]
          },
          "metadata": {
            "tags": []
          }
        },
        {
          "output_type": "stream",
          "text": [
            "Saving test4.jpg to test4.jpg\n",
            "[0.]\n",
            "test4.jpg is not a dog\n"
          ],
          "name": "stdout"
        }
      ]
    },
    {
      "cell_type": "markdown",
      "metadata": {
        "id": "I_xdy2kuLvFZ"
      },
      "source": [
        "#### <i>Bias—Variance Tradeoff</i>\r\n",
        "![image](https://www.googleapis.com/download/storage/v1/b/kaggle-forum-message-attachments/o/inbox%2F3335785%2F728627205a9dc976248c9f05a2baf464%2F1.png?generation=1600257419469907&alt=media)\r\n",
        "\r\n",
        "The bias—variance tradeoff is an essential topic to learn in debugging machine learning models. Overfitting and underfitting can be more understood if you know about biases and variance.\r\n",
        "\r\n",
        "<b>Bias</b>—the bias refers to the difference between the average prediction of the model and the groud truths. Models with high bias over-generalize the training data failing to \"learn\". This is refered to as <b>underfitting</b>.\r\n",
        "\r\n",
        "<b>Variance</b>—the variance of a model refers to the amount that the estimate of the target function will change if different training data was used. models with high variance is too \"specialized\" or overtrained on the dataset and fails to be flexible with data not in the training set. This is referred to as <b>overfitting</b>.\r\n",
        "\r\n",
        "<b><i>Remedies</b></i>\r\n",
        "\r\n",
        "To solve <b>underfitting</b> you might to:\r\n",
        "* Train longer, \r\n",
        "* Add features,\r\n",
        "* Choose more appropriate models,\r\n",
        "* Adding more layers (complexity) to the model, or\r\n",
        "* Choose a more appropriate loss or optimizer\r\n",
        "\r\n",
        "To solve <b>overfitting</b> you might to:\r\n",
        "* Train shorter, \r\n",
        "* Add more varieties or samples (generalizing), or\r\n",
        "* Apply regularization techniques such as batch normalization, data augmentation, dropout, etc."
      ]
    },
    {
      "cell_type": "markdown",
      "metadata": {
        "id": "WN34NuVbcwu4"
      },
      "source": [
        "### 4.2 Validation Sets\r\n",
        "To see the bias-variance tradeoff better in traning we need to have a validation set during training. The similarity between the test and validation set are that they are both data from the same dataset but not part of the training and they can be used to determine bias and variance. The difference is that validation sets are tested with the model during training while test sets are checked with the model post-training.\r\n",
        "\r\n",
        "There are also deployment sets that are considered another post-training dataset but are sampled from an actual area of deployment.\r\n",
        "\r\n",
        "For our example, we will be using [Image Data Generators](https://www.tensorflow.org/api_docs/python/tf/keras/preprocessing/image/ImageDataGenerator). Image data generators came from TensorFlow's image processing API. It allows us to pre-transform our dataset in-memory."
      ]
    },
    {
      "cell_type": "code",
      "metadata": {
        "colab": {
          "base_uri": "https://localhost:8080/"
        },
        "id": "igfpkquncwDk",
        "outputId": "de9b7703-84ee-492b-a724-6ffd6966594b"
      },
      "source": [
        "TRAIN_DIR = data_dir+'train'\r\n",
        "train_datagen = ImageDataGenerator(rescale=1.0/255.)\r\n",
        "train_generator = train_datagen.flow_from_directory(TRAIN_DIR,\r\n",
        "                                                     class_mode='binary',\r\n",
        "                                                     target_size=(100,100))\r\n"
      ],
      "execution_count": 37,
      "outputs": [
        {
          "output_type": "stream",
          "text": [
            "Found 20 images belonging to 2 classes.\n"
          ],
          "name": "stdout"
        }
      ]
    },
    {
      "cell_type": "code",
      "metadata": {
        "colab": {
          "base_uri": "https://localhost:8080/"
        },
        "id": "iyvbHj-ec9Na",
        "outputId": "9f25f08e-be99-474f-a7ff-8dbb73a876ce"
      },
      "source": [
        "VALIDATION_DIR = data_dir+'test'\r\n",
        "validation_datagen = ImageDataGenerator(rescale=1.0/255.)\r\n",
        "validaiton_generator = train_datagen.flow_from_directory(VALIDATION_DIR,\r\n",
        "                                                     class_mode='binary',\r\n",
        "                                                     target_size=(100,100))"
      ],
      "execution_count": 38,
      "outputs": [
        {
          "output_type": "stream",
          "text": [
            "Found 4 images belonging to 2 classes.\n"
          ],
          "name": "stdout"
        }
      ]
    },
    {
      "cell_type": "code",
      "metadata": {
        "id": "EAZ0eMNBdC7r"
      },
      "source": [
        "model = tf.keras.models.Sequential([\r\n",
        "    tf.keras.layers.Conv2D(16, (3, 3), activation='relu', input_shape=(100, 100, 3)),\r\n",
        "    tf.keras.layers.MaxPooling2D(2, 2),\r\n",
        "    tf.keras.layers.Conv2D(32, (3, 3), activation='relu'),\r\n",
        "    tf.keras.layers.MaxPooling2D(2, 2),\r\n",
        "    tf.keras.layers.Flatten(),\r\n",
        "    tf.keras.layers.Dense(512, activation='relu'),\r\n",
        "    tf.keras.layers.Dense(1, activation='sigmoid')\r\n",
        "])\r\n",
        "\r\n",
        "model.compile(optimizer=Adam(lr=0.001), loss='binary_crossentropy', metrics=['accuracy'])"
      ],
      "execution_count": 65,
      "outputs": []
    },
    {
      "cell_type": "code",
      "metadata": {
        "colab": {
          "base_uri": "https://localhost:8080/"
        },
        "id": "6YkzlGGTeM7b",
        "outputId": "f95fa4f8-3298-4d15-c8a0-5a4c313b056b"
      },
      "source": [
        "history7 = model.fit(train_generator,\r\n",
        "                              epochs=15,\r\n",
        "                              verbose=1,\r\n",
        "                     validation_data=validaiton_generator)"
      ],
      "execution_count": 66,
      "outputs": [
        {
          "output_type": "stream",
          "text": [
            "Epoch 1/15\n",
            "5/5 [==============================] - 1s 59ms/step - loss: 1.3177 - accuracy: 0.5208 - val_loss: 1.4073 - val_accuracy: 0.5000\n",
            "Epoch 2/15\n",
            "5/5 [==============================] - 0s 29ms/step - loss: 1.1840 - accuracy: 0.5000 - val_loss: 0.7799 - val_accuracy: 0.5000\n",
            "Epoch 3/15\n",
            "5/5 [==============================] - 0s 31ms/step - loss: 0.9868 - accuracy: 0.4271 - val_loss: 0.9583 - val_accuracy: 0.7500\n",
            "Epoch 4/15\n",
            "5/5 [==============================] - 0s 31ms/step - loss: 0.6575 - accuracy: 0.7681 - val_loss: 0.7341 - val_accuracy: 0.5000\n",
            "Epoch 5/15\n",
            "5/5 [==============================] - 0s 29ms/step - loss: 0.6999 - accuracy: 0.5646 - val_loss: 0.6657 - val_accuracy: 0.5000\n",
            "Epoch 6/15\n",
            "5/5 [==============================] - 0s 30ms/step - loss: 0.5828 - accuracy: 0.6514 - val_loss: 0.6653 - val_accuracy: 0.2500\n",
            "Epoch 7/15\n",
            "5/5 [==============================] - 0s 32ms/step - loss: 0.5969 - accuracy: 0.7257 - val_loss: 0.6364 - val_accuracy: 0.7500\n",
            "Epoch 8/15\n",
            "5/5 [==============================] - 0s 28ms/step - loss: 0.5365 - accuracy: 0.8194 - val_loss: 0.7099 - val_accuracy: 0.2500\n",
            "Epoch 9/15\n",
            "5/5 [==============================] - 0s 32ms/step - loss: 0.4923 - accuracy: 0.8153 - val_loss: 0.5497 - val_accuracy: 0.7500\n",
            "Epoch 10/15\n",
            "5/5 [==============================] - 0s 30ms/step - loss: 0.4960 - accuracy: 0.8257 - val_loss: 0.8890 - val_accuracy: 0.5000\n",
            "Epoch 11/15\n",
            "5/5 [==============================] - 0s 29ms/step - loss: 0.4646 - accuracy: 0.7764 - val_loss: 0.8126 - val_accuracy: 0.5000\n",
            "Epoch 12/15\n",
            "5/5 [==============================] - 0s 28ms/step - loss: 0.3690 - accuracy: 0.7021 - val_loss: 0.9113 - val_accuracy: 0.5000\n",
            "Epoch 13/15\n",
            "5/5 [==============================] - 0s 30ms/step - loss: 0.2625 - accuracy: 0.9562 - val_loss: 0.6584 - val_accuracy: 0.7500\n",
            "Epoch 14/15\n",
            "5/5 [==============================] - 0s 31ms/step - loss: 0.3791 - accuracy: 0.8701 - val_loss: 0.8725 - val_accuracy: 0.2500\n",
            "Epoch 15/15\n",
            "5/5 [==============================] - 0s 30ms/step - loss: 0.4855 - accuracy: 0.5326 - val_loss: 0.7953 - val_accuracy: 0.2500\n"
          ],
          "name": "stdout"
        }
      ]
    },
    {
      "cell_type": "code",
      "metadata": {
        "colab": {
          "base_uri": "https://localhost:8080/",
          "height": 313
        },
        "id": "fEx1zRk_dKrb",
        "outputId": "73e9d5ea-a22b-4cac-af57-8c779df271c2"
      },
      "source": [
        "plt.figure(figsize=(12,4))\r\n",
        "\r\n",
        "plt.subplot(121)\r\n",
        "plt.title('Loss Curve')\r\n",
        "plt.plot(history7.history['loss'])\r\n",
        "plt.plot(history7.history['val_loss'])\r\n",
        "plt.legend()\r\n",
        "plt.ylabel('loss')\r\n",
        "plt.xlabel('epoch')\r\n",
        "\r\n",
        "plt.subplot(122)\r\n",
        "plt.title('Accuracy Curve')\r\n",
        "plt.plot(history7.history['accuracy'])\r\n",
        "plt.plot(history7.history['val_accuracy'])\r\n",
        "plt.ylabel('accuracy')\r\n",
        "plt.xlabel('epoch')\r\n",
        "\r\n",
        "plt.show()"
      ],
      "execution_count": 67,
      "outputs": [
        {
          "output_type": "stream",
          "text": [
            "No handles with labels found to put in legend.\n"
          ],
          "name": "stderr"
        },
        {
          "output_type": "display_data",
          "data": {
            "image/png": "[encoded data removed]",
            "text/plain": [
              "<Figure size 864x288 with 2 Axes>"
            ]
          },
          "metadata": {
            "tags": [],
            "needs_background": "light"
          }
        }
      ]
    },
    {
      "cell_type": "code",
      "metadata": {
        "colab": {
          "resources": {
            "http://localhost:8080/nbextensions/google.colab/files.js": {
              "data": "Ly8gQ29weXJpZ2h0IDIwMTcgR29vZ2xlIExMQwovLwovLyBMaWNlbnNlZCB1bmRlciB0aGUgQXBhY2hlIExpY2Vuc2UsIFZlcnNpb24gMi4wICh0aGUgIkxpY2Vuc2UiKTsKLy8geW91IG1heSBub3QgdXNlIHRoaXMgZmlsZSBleGNlcHQgaW4gY29tcGxpYW5jZSB3aXRoIHRoZSBMaWNlbnNlLgovLyBZb3UgbWF5IG9idGFpbiBhIGNvcHkgb2YgdGhlIExpY2Vuc2UgYXQKLy8KLy8gICAgICBodHRwOi8vd3d3LmFwYWNoZS5vcmcvbGljZW5zZXMvTElDRU5TRS0yLjAKLy8KLy8gVW5sZXNzIHJlcXVpcmVkIGJ5IGFwcGxpY2FibGUgbGF3IG9yIGFncmVlZCB0byBpbiB3cml0aW5nLCBzb2Z0d2FyZQovLyBkaXN0cmlidXRlZCB1bmRlciB0aGUgTGljZW5zZSBpcyBkaXN0cmlidXRlZCBvbiBhbiAiQVMgSVMiIEJBU0lTLAovLyBXSVRIT1VUIFdBUlJBTlRJRVMgT1IgQ09ORElUSU9OUyBPRiBBTlkgS0lORCwgZWl0aGVyIGV4cHJlc3Mgb3IgaW1wbGllZC4KLy8gU2VlIHRoZSBMaWNlbnNlIGZvciB0aGUgc3BlY2lmaWMgbGFuZ3VhZ2UgZ292ZXJuaW5nIHBlcm1pc3Npb25zIGFuZAovLyBsaW1pdGF0aW9ucyB1bmRlciB0aGUgTGljZW5zZS4KCi8qKgogKiBAZmlsZW92ZXJ2aWV3IEhlbHBlcnMgZm9yIGdvb2dsZS5jb2xhYiBQeXRob24gbW9kdWxlLgogKi8KKGZ1bmN0aW9uKHNjb3BlKSB7CmZ1bmN0aW9uIHNwYW4odGV4dCwgc3R5bGVBdHRyaWJ1dGVzID0ge30pIHsKICBjb25zdCBlbGVtZW50ID0gZG9jdW1lbnQuY3JlYXRlRWxlbWVudCgnc3BhbicpOwogIGVsZW1lbnQudGV4dENvbnRlbnQgPSB0ZXh0OwogIGZvciAoY29uc3Qga2V5IG9mIE9iamVjdC5rZXlzKHN0eWxlQXR0cmlidXRlcykpIHsKICAgIGVsZW1lbnQuc3R5bGVba2V5XSA9IHN0eWxlQXR0cmlidXRlc1trZXldOwogIH0KICByZXR1cm4gZWxlbWVudDsKfQoKLy8gTWF4IG51bWJlciBvZiBieXRlcyB3aGljaCB3aWxsIGJlIHVwbG9hZGVkIGF0IGEgdGltZS4KY29uc3QgTUFYX1BBWUxPQURfU0laRSA9IDEwMCAqIDEwMjQ7CgpmdW5jdGlvbiBfdXBsb2FkRmlsZXMoaW5wdXRJZCwgb3V0cHV0SWQpIHsKICBjb25zdCBzdGVwcyA9IHVwbG9hZEZpbGVzU3RlcChpbnB1dElkLCBvdXRwdXRJZCk7CiAgY29uc3Qgb3V0cHV0RWxlbWVudCA9IGRvY3VtZW50LmdldEVsZW1lbnRCeUlkKG91dHB1dElkKTsKICAvLyBDYWNoZSBzdGVwcyBvbiB0aGUgb3V0cHV0RWxlbWVudCB0byBtYWtlIGl0IGF2YWlsYWJsZSBmb3IgdGhlIG5leHQgY2FsbAogIC8vIHRvIHVwbG9hZEZpbGVzQ29udGludWUgZnJvbSBQeXRob24uCiAgb3V0cHV0RWxlbWVudC5zdGVwcyA9IHN0ZXBzOwoKICByZXR1cm4gX3VwbG9hZEZpbGVzQ29udGludWUob3V0cHV0SWQpOwp9CgovLyBUaGlzIGlzIHJvdWdobHkgYW4gYXN5bmMgZ2VuZXJhdG9yIChub3Qgc3VwcG9ydGVkIGluIHRoZSBicm93c2VyIHlldCksCi8vIHdoZXJlIHRoZXJlIGFyZSBtdWx0aXBsZSBhc3luY2hyb25vdXMgc3RlcHMgYW5kIHRoZSBQeXRob24gc2lkZSBpcyBnb2luZwovLyB0byBwb2xsIGZvciBjb21wbGV0aW9uIG9mIGVhY2ggc3RlcC4KLy8gVGhpcyB1c2VzIGEgUHJvbWlzZSB0byBibG9jayB0aGUgcHl0aG9uIHNpZGUgb24gY29tcGxldGlvbiBvZiBlYWNoIHN0ZXAsCi8vIHRoZW4gcGFzc2VzIHRoZSByZXN1bHQgb2YgdGhlIHByZXZpb3VzIHN0ZXAgYXMgdGhlIGlucHV0IHRvIHRoZSBuZXh0IHN0ZXAuCmZ1bmN0aW9uIF91cGxvYWRGaWxlc0NvbnRpbnVlKG91dHB1dElkKSB7CiAgY29uc3Qgb3V0cHV0RWxlbWVudCA9IGRvY3VtZW50LmdldEVsZW1lbnRCeUlkKG91dHB1dElkKTsKICBjb25zdCBzdGVwcyA9IG91dHB1dEVsZW1lbnQuc3RlcHM7CgogIGNvbnN0IG5leHQgPSBzdGVwcy5uZXh0KG91dHB1dEVsZW1lbnQubGFzdFByb21pc2VWYWx1ZSk7CiAgcmV0dXJuIFByb21pc2UucmVzb2x2ZShuZXh0LnZhbHVlLnByb21pc2UpLnRoZW4oKHZhbHVlKSA9PiB7CiAgICAvLyBDYWNoZSB0aGUgbGFzdCBwcm9taXNlIHZhbHVlIHRvIG1ha2UgaXQgYXZhaWxhYmxlIHRvIHRoZSBuZXh0CiAgICAvLyBzdGVwIG9mIHRoZSBnZW5lcmF0b3IuCiAgICBvdXRwdXRFbGVtZW50Lmxhc3RQcm9taXNlVmFsdWUgPSB2YWx1ZTsKICAgIHJldHVybiBuZXh0LnZhbHVlLnJlc3BvbnNlOwogIH0pOwp9CgovKioKICogR2VuZXJhdG9yIGZ1bmN0aW9uIHdoaWNoIGlzIGNhbGxlZCBiZXR3ZWVuIGVhY2ggYXN5bmMgc3RlcCBvZiB0aGUgdXBsb2FkCiAqIHByb2Nlc3MuCiAqIEBwYXJhbSB7c3RyaW5nfSBpbnB1dElkIEVsZW1lbnQgSUQgb2YgdGhlIGlucHV0IGZpbGUgcGlja2VyIGVsZW1lbnQuCiAqIEBwYXJhbSB7c3RyaW5nfSBvdXRwdXRJZCBFbGVtZW50IElEIG9mIHRoZSBvdXRwdXQgZGlzcGxheS4KICogQHJldHVybiB7IUl0ZXJhYmxlPCFPYmplY3Q+fSBJdGVyYWJsZSBvZiBuZXh0IHN0ZXBzLgogKi8KZnVuY3Rpb24qIHVwbG9hZEZpbGVzU3RlcChpbnB1dElkLCBvdXRwdXRJZCkgewogIGNvbnN0IGlucHV0RWxlbWVudCA9IGRvY3VtZW50LmdldEVsZW1lbnRCeUlkKGlucHV0SWQpOwogIGlucHV0RWxlbWVudC5kaXNhYmxlZCA9IGZhbHNlOwoKICBjb25zdCBvdXRwdXRFbGVtZW50ID0gZG9jdW1lbnQuZ2V0RWxlbWVudEJ5SWQob3V0cHV0SWQpOwogIG91dHB1dEVsZW1lbnQuaW5uZXJIVE1MID0gJyc7CgogIGNvbnN0IHBpY2tlZFByb21pc2UgPSBuZXcgUHJvbWlzZSgocmVzb2x2ZSkgPT4gewogICAgaW5wdXRFbGVtZW50LmFkZEV2ZW50TGlzdGVuZXIoJ2NoYW5nZScsIChlKSA9PiB7CiAgICAgIHJlc29sdmUoZS50YXJnZXQuZmlsZXMpOwogICAgfSk7CiAgfSk7CgogIGNvbnN0IGNhbmNlbCA9IGRvY3VtZW50LmNyZWF0ZUVsZW1lbnQoJ2J1dHRvbicpOwogIGlucHV0RWxlbWVudC5wYXJlbnRFbGVtZW50LmFwcGVuZENoaWxkKGNhbmNlbCk7CiAgY2FuY2VsLnRleHRDb250ZW50ID0gJ0NhbmNlbCB1cGxvYWQnOwogIGNvbnN0IGNhbmNlbFByb21pc2UgPSBuZXcgUHJvbWlzZSgocmVzb2x2ZSkgPT4gewogICAgY2FuY2VsLm9uY2xpY2sgPSAoKSA9PiB7CiAgICAgIHJlc29sdmUobnVsbCk7CiAgICB9OwogIH0pOwoKICAvLyBXYWl0IGZvciB0aGUgdXNlciB0byBwaWNrIHRoZSBmaWxlcy4KICBjb25zdCBmaWxlcyA9IHlpZWxkIHsKICAgIHByb21pc2U6IFByb21pc2UucmFjZShbcGlja2VkUHJvbWlzZSwgY2FuY2VsUHJvbWlzZV0pLAogICAgcmVzcG9uc2U6IHsKICAgICAgYWN0aW9uOiAnc3RhcnRpbmcnLAogICAgfQogIH07CgogIGNhbmNlbC5yZW1vdmUoKTsKCiAgLy8gRGlzYWJsZSB0aGUgaW5wdXQgZWxlbWVudCBzaW5jZSBmdXJ0aGVyIHBpY2tzIGFyZSBub3QgYWxsb3dlZC4KICBpbnB1dEVsZW1lbnQuZGlzYWJsZWQgPSB0cnVlOwoKICBpZiAoIWZpbGVzKSB7CiAgICByZXR1cm4gewogICAgICByZXNwb25zZTogewogICAgICAgIGFjdGlvbjogJ2NvbXBsZXRlJywKICAgICAgfQogICAgfTsKICB9CgogIGZvciAoY29uc3QgZmlsZSBvZiBmaWxlcykgewogICAgY29uc3QgbGkgPSBkb2N1bWVudC5jcmVhdGVFbGVtZW50KCdsaScpOwogICAgbGkuYXBwZW5kKHNwYW4oZmlsZS5uYW1lLCB7Zm9udFdlaWdodDogJ2JvbGQnfSkpOwogICAgbGkuYXBwZW5kKHNwYW4oCiAgICAgICAgYCgke2ZpbGUudHlwZSB8fCAnbi9hJ30pIC0gJHtmaWxlLnNpemV9IGJ5dGVzLCBgICsKICAgICAgICBgbGFzdCBtb2RpZmllZDogJHsKICAgICAgICAgICAgZmlsZS5sYXN0TW9kaWZpZWREYXRlID8gZmlsZS5sYXN0TW9kaWZpZWREYXRlLnRvTG9jYWxlRGF0ZVN0cmluZygpIDoKICAgICAgICAgICAgICAgICAgICAgICAgICAgICAgICAgICAgJ24vYSd9IC0gYCkpOwogICAgY29uc3QgcGVyY2VudCA9IHNwYW4oJzAlIGRvbmUnKTsKICAgIGxpLmFwcGVuZENoaWxkKHBlcmNlbnQpOwoKICAgIG91dHB1dEVsZW1lbnQuYXBwZW5kQ2hpbGQobGkpOwoKICAgIGNvbnN0IGZpbGVEYXRhUHJvbWlzZSA9IG5ldyBQcm9taXNlKChyZXNvbHZlKSA9PiB7CiAgICAgIGNvbnN0IHJlYWRlciA9IG5ldyBGaWxlUmVhZGVyKCk7CiAgICAgIHJlYWRlci5vbmxvYWQgPSAoZSkgPT4gewogICAgICAgIHJlc29sdmUoZS50YXJnZXQucmVzdWx0KTsKICAgICAgfTsKICAgICAgcmVhZGVyLnJlYWRBc0FycmF5QnVmZmVyKGZpbGUpOwogICAgfSk7CiAgICAvLyBXYWl0IGZvciB0aGUgZGF0YSB0byBiZSByZWFkeS4KICAgIGxldCBmaWxlRGF0YSA9IHlpZWxkIHsKICAgICAgcHJvbWlzZTogZmlsZURhdGFQcm9taXNlLAogICAgICByZXNwb25zZTogewogICAgICAgIGFjdGlvbjogJ2NvbnRpbnVlJywKICAgICAgfQogICAgfTsKCiAgICAvLyBVc2UgYSBjaHVua2VkIHNlbmRpbmcgdG8gYXZvaWQgbWVzc2FnZSBzaXplIGxpbWl0cy4gU2VlIGIvNjIxMTU2NjAuCiAgICBsZXQgcG9zaXRpb24gPSAwOwogICAgd2hpbGUgKHBvc2l0aW9uIDwgZmlsZURhdGEuYnl0ZUxlbmd0aCkgewogICAgICBjb25zdCBsZW5ndGggPSBNYXRoLm1pbihmaWxlRGF0YS5ieXRlTGVuZ3RoIC0gcG9zaXRpb24sIE1BWF9QQVlMT0FEX1NJWkUpOwogICAgICBjb25zdCBjaHVuayA9IG5ldyBVaW50OEFycmF5KGZpbGVEYXRhLCBwb3NpdGlvbiwgbGVuZ3RoKTsKICAgICAgcG9zaXRpb24gKz0gbGVuZ3RoOwoKICAgICAgY29uc3QgYmFzZTY0ID0gYnRvYShTdHJpbmcuZnJvbUNoYXJDb2RlLmFwcGx5KG51bGwsIGNodW5rKSk7CiAgICAgIHlpZWxkIHsKICAgICAgICByZXNwb25zZTogewogICAgICAgICAgYWN0aW9uOiAnYXBwZW5kJywKICAgICAgICAgIGZpbGU6IGZpbGUubmFtZSwKICAgICAgICAgIGRhdGE6IGJhc2U2NCwKICAgICAgICB9LAogICAgICB9OwogICAgICBwZXJjZW50LnRleHRDb250ZW50ID0KICAgICAgICAgIGAke01hdGgucm91bmQoKHBvc2l0aW9uIC8gZmlsZURhdGEuYnl0ZUxlbmd0aCkgKiAxMDApfSUgZG9uZWA7CiAgICB9CiAgfQoKICAvLyBBbGwgZG9uZS4KICB5aWVsZCB7CiAgICByZXNwb25zZTogewogICAgICBhY3Rpb246ICdjb21wbGV0ZScsCiAgICB9CiAgfTsKfQoKc2NvcGUuZ29vZ2xlID0gc2NvcGUuZ29vZ2xlIHx8IHt9OwpzY29wZS5nb29nbGUuY29sYWIgPSBzY29wZS5nb29nbGUuY29sYWIgfHwge307CnNjb3BlLmdvb2dsZS5jb2xhYi5fZmlsZXMgPSB7CiAgX3VwbG9hZEZpbGVzLAogIF91cGxvYWRGaWxlc0NvbnRpbnVlLAp9Owp9KShzZWxmKTsK",
              "ok": true,
              "headers": [
                [
                  "content-type",
                  "application/javascript"
                ]
              ],
              "status": 200,
              "status_text": ""
            }
          },
          "base_uri": "https://localhost:8080/",
          "height": 145
        },
        "id": "Qi65WESce5nj",
        "outputId": "06cb69ca-fe32-42a5-9f61-db84b2f45493"
      },
      "source": [
        "upload_and_predict()"
      ],
      "execution_count": 68,
      "outputs": [
        {
          "output_type": "display_data",
          "data": {
            "text/html": [
              "\n",
              "     <input type=\"file\" id=\"files-8196cfb9-f2fa-4db7-9b28-713ee6b3b25b\" name=\"files[]\" multiple disabled\n",
              "        style=\"border:none\" />\n",
              "     <output id=\"result-8196cfb9-f2fa-4db7-9b28-713ee6b3b25b\">\n",
              "      Upload widget is only available when the cell has been executed in the\n",
              "      current browser session. Please rerun this cell to enable.\n",
              "      </output>\n",
              "      <script src=\"/nbextensions/google.colab/files.js\"></script> "
            ],
            "text/plain": [
              "<IPython.core.display.HTML object>"
            ]
          },
          "metadata": {
            "tags": []
          }
        },
        {
          "output_type": "stream",
          "text": [
            "Saving test4.jpg to test4 (4).jpg\n",
            "WARNING:tensorflow:5 out of the last 5 calls to <function Model.make_predict_function.<locals>.predict_function at 0x7f44c721abf8> triggered tf.function retracing. Tracing is expensive and the excessive number of tracings could be due to (1) creating @tf.function repeatedly in a loop, (2) passing tensors with different shapes, (3) passing Python objects instead of tensors. For (1), please define your @tf.function outside of the loop. For (2), @tf.function has experimental_relax_shapes=True option that relaxes argument shapes that can avoid unnecessary retracing. For (3), please refer to https://www.tensorflow.org/guide/function#controlling_retracing and https://www.tensorflow.org/api_docs/python/tf/function for  more details.\n",
            "[1.0196558e-25]\n",
            "test4.jpg is not a dog\n"
          ],
          "name": "stdout"
        }
      ]
    },
    {
      "cell_type": "markdown",
      "metadata": {
        "id": "6FOPTfZ8i6vz"
      },
      "source": [
        "### 4.3 Data Augmentation"
      ]
    },
    {
      "cell_type": "code",
      "metadata": {
        "colab": {
          "base_uri": "https://localhost:8080/"
        },
        "id": "9r4wbgKqiamM",
        "outputId": "d81dd8db-2845-4d1e-9973-c16cbe0ea107"
      },
      "source": [
        "TRAIN_DIR = data_dir+'train'\r\n",
        "train_datagen = ImageDataGenerator(\r\n",
        "    rescale=1.0/255.,\r\n",
        "    rotation_range=40,\r\n",
        "      width_shift_range=0.2,\r\n",
        "      height_shift_range=0.2,\r\n",
        "      shear_range=0.2,\r\n",
        "      zoom_range=0.2,\r\n",
        "      horizontal_flip=True,\r\n",
        "      fill_mode='nearest')\r\n",
        "train_generator = train_datagen.flow_from_directory(TRAIN_DIR,\r\n",
        "                                                     class_mode='binary',\r\n",
        "                                                    batch_size=4,\r\n",
        "                                                     target_size=(100,100))\r\n",
        "\r\n",
        "VALIDATION_DIR = data_dir+'test'\r\n",
        "validation_datagen = ImageDataGenerator(\r\n",
        "    rescale=1.0/255.,\r\n",
        "    rotation_range=40,\r\n",
        "      width_shift_range=0.2,\r\n",
        "      height_shift_range=0.2,\r\n",
        "      shear_range=0.2,\r\n",
        "      zoom_range=0.2,\r\n",
        "      horizontal_flip=True,\r\n",
        "      fill_mode='nearest'\r\n",
        "      )\r\n",
        "validaiton_generator = train_datagen.flow_from_directory(VALIDATION_DIR,\r\n",
        "                                                     class_mode='binary',\r\n",
        "                                                     batch_size=4,\r\n",
        "                                                     target_size=(100,100))"
      ],
      "execution_count": 60,
      "outputs": [
        {
          "output_type": "stream",
          "text": [
            "Found 20 images belonging to 2 classes.\n",
            "Found 4 images belonging to 2 classes.\n"
          ],
          "name": "stdout"
        }
      ]
    },
    {
      "cell_type": "code",
      "metadata": {
        "id": "jyvQKJgWjaIr"
      },
      "source": [
        "model = tf.keras.models.Sequential([\r\n",
        "    tf.keras.layers.Conv2D(32, (3, 3), activation='relu', input_shape=(100, 100, 3)),\r\n",
        "    tf.keras.layers.MaxPooling2D(2, 2),\r\n",
        "    tf.keras.layers.Conv2D(16, (3, 3), activation='relu'),\r\n",
        "    tf.keras.layers.MaxPooling2D(2, 2),\r\n",
        "    tf.keras.layers.Flatten(),\r\n",
        "    tf.keras.layers.Dense(512, activation='relu'),\r\n",
        "    tf.keras.layers.Dense(1, activation='sigmoid')\r\n",
        "])\r\n",
        "\r\n",
        "model.compile(optimizer=Adam(lr=0.001), loss='binary_crossentropy', metrics=['accuracy'])"
      ],
      "execution_count": 61,
      "outputs": []
    },
    {
      "cell_type": "code",
      "metadata": {
        "colab": {
          "base_uri": "https://localhost:8080/"
        },
        "id": "Cuscg8CYjhy8",
        "outputId": "c95850cb-b554-4d25-caf5-72d727c4a840"
      },
      "source": [
        "history8 = model.fit(train_generator,\r\n",
        "                              epochs=15,\r\n",
        "                              verbose=1,\r\n",
        "                     validation_data=validaiton_generator)"
      ],
      "execution_count": 62,
      "outputs": [
        {
          "output_type": "stream",
          "text": [
            "Epoch 1/15\n",
            "5/5 [==============================] - 1s 67ms/step - loss: 1.0792 - accuracy: 0.5188 - val_loss: 0.9340 - val_accuracy: 0.5000\n",
            "Epoch 2/15\n",
            "5/5 [==============================] - 0s 62ms/step - loss: 0.9946 - accuracy: 0.3896 - val_loss: 0.6863 - val_accuracy: 0.5000\n",
            "Epoch 3/15\n",
            "5/5 [==============================] - 0s 30ms/step - loss: 0.6487 - accuracy: 0.5229 - val_loss: 0.6982 - val_accuracy: 0.5000\n",
            "Epoch 4/15\n",
            "5/5 [==============================] - 0s 28ms/step - loss: 0.6104 - accuracy: 0.7153 - val_loss: 0.7222 - val_accuracy: 0.5000\n",
            "Epoch 5/15\n",
            "5/5 [==============================] - 0s 28ms/step - loss: 0.5956 - accuracy: 0.6056 - val_loss: 0.7380 - val_accuracy: 0.5000\n",
            "Epoch 6/15\n",
            "5/5 [==============================] - 0s 30ms/step - loss: 0.5732 - accuracy: 0.7028 - val_loss: 0.7707 - val_accuracy: 0.2500\n",
            "Epoch 7/15\n",
            "5/5 [==============================] - 0s 33ms/step - loss: 0.5400 - accuracy: 0.7597 - val_loss: 1.0221 - val_accuracy: 0.7500\n",
            "Epoch 8/15\n",
            "5/5 [==============================] - 0s 29ms/step - loss: 0.6050 - accuracy: 0.5569 - val_loss: 0.6950 - val_accuracy: 0.5000\n",
            "Epoch 9/15\n",
            "5/5 [==============================] - 0s 31ms/step - loss: 0.5046 - accuracy: 0.6319 - val_loss: 1.1952 - val_accuracy: 0.5000\n",
            "Epoch 10/15\n",
            "5/5 [==============================] - 0s 28ms/step - loss: 0.3201 - accuracy: 0.8257 - val_loss: 1.3421 - val_accuracy: 0.5000\n",
            "Epoch 11/15\n",
            "5/5 [==============================] - 0s 31ms/step - loss: 0.5190 - accuracy: 0.6778 - val_loss: 1.1450 - val_accuracy: 0.2500\n",
            "Epoch 12/15\n",
            "5/5 [==============================] - 0s 27ms/step - loss: 0.3531 - accuracy: 0.8535 - val_loss: 0.9414 - val_accuracy: 0.5000\n",
            "Epoch 13/15\n",
            "5/5 [==============================] - 0s 29ms/step - loss: 0.4678 - accuracy: 0.6576 - val_loss: 1.0145 - val_accuracy: 0.2500\n",
            "Epoch 14/15\n",
            "5/5 [==============================] - 0s 30ms/step - loss: 0.3981 - accuracy: 0.8285 - val_loss: 1.1050 - val_accuracy: 0.2500\n",
            "Epoch 15/15\n",
            "5/5 [==============================] - 0s 31ms/step - loss: 0.2693 - accuracy: 0.8882 - val_loss: 0.8396 - val_accuracy: 0.5000\n"
          ],
          "name": "stdout"
        }
      ]
    },
    {
      "cell_type": "code",
      "metadata": {
        "colab": {
          "base_uri": "https://localhost:8080/",
          "height": 295
        },
        "id": "IaYQSu-Tjvcj",
        "outputId": "7fc77789-7bee-4b47-9dbe-18394e242463"
      },
      "source": [
        "plt.figure(figsize=(12,4))\r\n",
        "\r\n",
        "plt.subplot(121)\r\n",
        "plt.title('Loss Curve')\r\n",
        "plt.plot(history8.history['loss'])\r\n",
        "plt.plot(history8.history['val_loss'])\r\n",
        "plt.ylabel('loss')\r\n",
        "plt.xlabel('epoch')\r\n",
        "\r\n",
        "plt.subplot(122)\r\n",
        "plt.title('Accuracy Curve')\r\n",
        "plt.plot(history8.history['accuracy'])\r\n",
        "plt.plot(history8.history['val_accuracy'])\r\n",
        "plt.ylabel('accuracy')\r\n",
        "plt.xlabel('epoch')\r\n",
        "\r\n",
        "plt.show()"
      ],
      "execution_count": 63,
      "outputs": [
        {
          "output_type": "display_data",
          "data": {
            "image/png": "[encoded data removed]",
            "text/plain": [
              "<Figure size 864x288 with 2 Axes>"
            ]
          },
          "metadata": {
            "tags": [],
            "needs_background": "light"
          }
        }
      ]
    },
    {
      "cell_type": "code",
      "metadata": {
        "colab": {
          "resources": {
            "http://localhost:8080/nbextensions/google.colab/files.js": {
              "data": "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",
              "ok": true,
              "headers": [
                [
                  "content-type",
                  "application/javascript"
                ]
              ],
              "status": 200,
              "status_text": ""
            }
          },
          "base_uri": "https://localhost:8080/",
          "height": 108
        },
        "id": "GldXTooplMS7",
        "outputId": "d506f86a-927e-44fe-af1c-5f4da9bd2489"
      },
      "source": [
        "upload_and_predict()"
      ],
      "execution_count": 71,
      "outputs": [
        {
          "output_type": "display_data",
          "data": {
            "text/html": [
              "\n",
              "     <input type=\"file\" id=\"files-19d71665-d0bd-4a34-8024-9e08feebc65a\" name=\"files[]\" multiple disabled\n",
              "        style=\"border:none\" />\n",
              "     <output id=\"result-19d71665-d0bd-4a34-8024-9e08feebc65a\">\n",
              "      Upload widget is only available when the cell has been executed in the\n",
              "      current browser session. Please rerun this cell to enable.\n",
              "      </output>\n",
              "      <script src=\"/nbextensions/google.colab/files.js\"></script> "
            ],
            "text/plain": [
              "<IPython.core.display.HTML object>"
            ]
          },
          "metadata": {
            "tags": []
          }
        },
        {
          "output_type": "stream",
          "text": [
            "Saving test1.jpg to test1.jpg\n",
            "[0.]\n",
            "test1.jpg is not a dog\n"
          ],
          "name": "stdout"
        }
      ]
    }
  ]
}